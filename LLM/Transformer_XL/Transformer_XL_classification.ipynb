{
  "nbformat": 4,
  "nbformat_minor": 0,
  "metadata": {
    "colab": {
      "provenance": [],
      "authorship_tag": "ABX9TyO3Z7Px3LrJEC2Fx2aFy26G",
      "include_colab_link": true
    },
    "kernelspec": {
      "name": "python3",
      "display_name": "Python 3"
    },
    "language_info": {
      "name": "python"
    }
  },
  "cells": [
    {
      "cell_type": "markdown",
      "metadata": {
        "id": "view-in-github",
        "colab_type": "text"
      },
      "source": [
        "<a href=\"https://colab.research.google.com/github/MinsooKwak/Study/blob/main/LLM/Transformer_XL/Transformer_XL_classification.ipynb\" target=\"_parent\"><img src=\"https://colab.research.google.com/assets/colab-badge.svg\" alt=\"Open In Colab\"/></a>"
      ]
    },
    {
      "cell_type": "markdown",
      "source": [
        "### **Contribution**"
      ],
      "metadata": {
        "id": "oVrKQ2UqMGO5"
      }
    },
    {
      "cell_type": "markdown",
      "source": [
        "BERT, GPT2를 포함해 기존 Transformer 모델은 \"Fixed Length\" 고정된 길이의 context를 갖는다는 한계가 있었다.\n",
        "\n",
        "Transformer XL 모델은 Fixed Length context의 한계를 넘어서기 위해 고안된 최초의 모델이다.\n",
        "\n",
        "기존에 최대 1000개의 token을 생성할 수 있었다면, Transformer XL은 1억개의 token을 생성할 수 있다."
      ],
      "metadata": {
        "id": "7l_B1V9rLk5c"
      }
    },
    {
      "cell_type": "markdown",
      "source": [
        "### **Transformer XL Task**"
      ],
      "metadata": {
        "id": "hVIAvyNNMFkW"
      }
    },
    {
      "cell_type": "markdown",
      "source": [
        "- 생성\n",
        "- 분류"
      ],
      "metadata": {
        "id": "XXew60fiMUfU"
      }
    },
    {
      "cell_type": "markdown",
      "source": [
        "## Transformer XL classification"
      ],
      "metadata": {
        "id": "GmzznaJyMVh3"
      }
    },
    {
      "cell_type": "markdown",
      "source": [
        "**Label Classification**\n",
        "\n",
        "1) Single label classification\n",
        "  - 각 데이터 포인트에 하나의 label만 할당\n",
        "\n",
        "2) Multi-class classification\n",
        "  - 하나의 데이터 포인트가 여러개의 label 가질 수 있음"
      ],
      "metadata": {
        "id": "GvOhu6IhNUfN"
      }
    },
    {
      "cell_type": "code",
      "execution_count": 1,
      "metadata": {
        "id": "CFGsdn76Lgan"
      },
      "outputs": [],
      "source": [
        "#!pip install transformers"
      ]
    },
    {
      "cell_type": "code",
      "source": [
        "#!pip install sacremoses"
      ],
      "metadata": {
        "id": "FbRRoy0CMc0q"
      },
      "execution_count": 2,
      "outputs": []
    },
    {
      "cell_type": "code",
      "source": [
        "import torch\n",
        "from transformers import AutoTokenizer, TransfoXLForSequenceClassification"
      ],
      "metadata": {
        "id": "-oL37uKFMjhu"
      },
      "execution_count": 3,
      "outputs": []
    },
    {
      "cell_type": "markdown",
      "source": [
        "**사전 훈련된 모델(pre-trained model) load**"
      ],
      "metadata": {
        "id": "pbTKYnmyOTKC"
      }
    },
    {
      "cell_type": "code",
      "source": [
        "tokenizer = AutoTokenizer.from_pretrained('transfo-xl-wt103') # transformer에서 AutoTokenizer 가져옴\n",
        "model = TransfoXLForSequenceClassification.from_pretrained('transfo-xl-wt103')  # hf에서 가져옴"
      ],
      "metadata": {
        "colab": {
          "base_uri": "https://localhost:8080/"
        },
        "id": "cL0kb8IjM04i",
        "outputId": "37b5dc91-427a-4ffb-ea36-dc6959092790"
      },
      "execution_count": 4,
      "outputs": [
        {
          "output_type": "stream",
          "name": "stderr",
          "text": [
            "Some weights of TransfoXLForSequenceClassification were not initialized from the model checkpoint at transfo-xl-wt103 and are newly initialized: ['score.weight']\n",
            "You should probably TRAIN this model on a down-stream task to be able to use it for predictions and inference.\n"
          ]
        }
      ]
    },
    {
      "cell_type": "markdown",
      "source": [
        "### Single Label Classification"
      ],
      "metadata": {
        "id": "g_npcTYkN8OV"
      }
    },
    {
      "cell_type": "code",
      "source": [
        "input_str = input(\"\")"
      ],
      "metadata": {
        "colab": {
          "base_uri": "https://localhost:8080/"
        },
        "id": "pdmtBgPVNSAq",
        "outputId": "f757c90b-4005-4eae-ba49-d2e157bbec18"
      },
      "execution_count": 5,
      "outputs": [
        {
          "name": "stdout",
          "output_type": "stream",
          "text": [
            "My name is Minsoo\n"
          ]
        }
      ]
    },
    {
      "cell_type": "code",
      "source": [
        "input_str"
      ],
      "metadata": {
        "colab": {
          "base_uri": "https://localhost:8080/",
          "height": 35
        },
        "id": "53XWxiWBOxO_",
        "outputId": "088c39a7-854e-455b-853f-3e789d054966"
      },
      "execution_count": 6,
      "outputs": [
        {
          "output_type": "execute_result",
          "data": {
            "text/plain": [
              "'My name is Minsoo'"
            ],
            "application/vnd.google.colaboratory.intrinsic+json": {
              "type": "string"
            }
          },
          "metadata": {},
          "execution_count": 6
        }
      ]
    },
    {
      "cell_type": "code",
      "source": [
        "inputs = tokenizer(input_str, return_tensors='pt')  # pytorch # tensorflow도 사용 가능"
      ],
      "metadata": {
        "id": "ARVxk0EyO2NQ"
      },
      "execution_count": 7,
      "outputs": []
    },
    {
      "cell_type": "code",
      "source": [
        "inputs"
      ],
      "metadata": {
        "colab": {
          "base_uri": "https://localhost:8080/"
        },
        "id": "P5ihSswmPmFr",
        "outputId": "d39d3b82-97c0-4c64-fa13-8a746a35f047"
      },
      "execution_count": 8,
      "outputs": [
        {
          "output_type": "execute_result",
          "data": {
            "text/plain": [
              "{'input_ids': tensor([[1162,  237,   23,   24]])}"
            ]
          },
          "metadata": {},
          "execution_count": 8
        }
      ]
    },
    {
      "cell_type": "markdown",
      "source": [
        "token화 되어 있어 정수로 표현되고 있음\n",
        "\n",
        "모델에 전달되어 predicted_class_id로 변환됨"
      ],
      "metadata": {
        "id": "7GJBW6evPpD3"
      }
    },
    {
      "cell_type": "code",
      "source": [
        "with torch.no_grad():\n",
        "  # logits : 예측 헤드로 전달되는 모든 값\n",
        "  # .logits : 예측된 클래스를 찾는데 사용됨\n",
        "  logits = model(**inputs).logits\n",
        "\n",
        "predicted_class_id = logits.argmax().item()"
      ],
      "metadata": {
        "id": "tefz4b84PHqV"
      },
      "execution_count": 9,
      "outputs": []
    },
    {
      "cell_type": "code",
      "source": [
        "predicted_class_id"
      ],
      "metadata": {
        "colab": {
          "base_uri": "https://localhost:8080/"
        },
        "id": "oeDu22xYP6Sm",
        "outputId": "e8514b7f-d053-43e0-d436-2b302aff3994"
      },
      "execution_count": 10,
      "outputs": [
        {
          "output_type": "execute_result",
          "data": {
            "text/plain": [
              "1"
            ]
          },
          "metadata": {},
          "execution_count": 10
        }
      ]
    },
    {
      "cell_type": "code",
      "source": [
        "model.config.id2label # 원하는 경우 레이블 전달 가능"
      ],
      "metadata": {
        "colab": {
          "base_uri": "https://localhost:8080/"
        },
        "id": "YyaAS10zQDWD",
        "outputId": "91daf55b-5637-4aa0-e3d2-3b0f0bd85903"
      },
      "execution_count": 11,
      "outputs": [
        {
          "output_type": "execute_result",
          "data": {
            "text/plain": [
              "{0: 'LABEL_0', 1: 'LABEL_1'}"
            ]
          },
          "metadata": {},
          "execution_count": 11
        }
      ]
    },
    {
      "cell_type": "markdown",
      "source": [
        "**Fine-tuing**"
      ],
      "metadata": {
        "id": "gcbGzjsEQxLY"
      }
    },
    {
      "cell_type": "markdown",
      "source": [
        "- 현재 단계에서는 실행하지 않음"
      ],
      "metadata": {
        "id": "uI--NAHFRV4D"
      }
    },
    {
      "cell_type": "code",
      "source": [
        "#num_labels = len(model.config.id2label)\n",
        "#model = TransfoXLForSequenceClassification.from_pretrained('transfo-xl-wt103', num_labels=num_labels)"
      ],
      "metadata": {
        "id": "Z3Sm-Z6AQLmo"
      },
      "execution_count": 12,
      "outputs": []
    },
    {
      "cell_type": "code",
      "source": [
        "#models = torch.tensor([1])\n",
        "#loss = model(**inputs, labels=labels).loss"
      ],
      "metadata": {
        "id": "GTop9YRtQ9Om"
      },
      "execution_count": 13,
      "outputs": []
    },
    {
      "cell_type": "markdown",
      "source": [
        "### Multi Label Classification"
      ],
      "metadata": {
        "id": "Gyac2GQNN_id"
      }
    },
    {
      "cell_type": "code",
      "source": [
        "tokenizer = AutoTokenizer.from_pretrained('transfo-xl-wt103')\n",
        "model = TransfoXLForSequenceClassification.from_pretrained('transfo-xl-wt103',\n",
        "                                                           problem_type='multi_label_classification')"
      ],
      "metadata": {
        "colab": {
          "base_uri": "https://localhost:8080/"
        },
        "id": "rAx9Uq3yRO38",
        "outputId": "e7b5ee0c-30ef-4cd5-e457-0978634b339f"
      },
      "execution_count": 14,
      "outputs": [
        {
          "output_type": "stream",
          "name": "stderr",
          "text": [
            "Some weights of TransfoXLForSequenceClassification were not initialized from the model checkpoint at transfo-xl-wt103 and are newly initialized: ['score.weight']\n",
            "You should probably TRAIN this model on a down-stream task to be able to use it for predictions and inference.\n"
          ]
        }
      ]
    },
    {
      "cell_type": "markdown",
      "source": [
        "- Single과 다른 점은 pretrained model 가져올 때 multi_label_classification 설정하는 것"
      ],
      "metadata": {
        "id": "0GlnhL9uRqMf"
      }
    },
    {
      "cell_type": "code",
      "source": [
        "input_str = input(\"\")"
      ],
      "metadata": {
        "colab": {
          "base_uri": "https://localhost:8080/"
        },
        "id": "T16BdxF_RoaQ",
        "outputId": "0d6765e7-f657-42dd-96db-602a32762043"
      },
      "execution_count": 21,
      "outputs": [
        {
          "name": "stdout",
          "output_type": "stream",
          "text": [
            "I was going with my dog\n"
          ]
        }
      ]
    },
    {
      "cell_type": "code",
      "source": [
        "inputs = tokenizer(input_str, return_tensors='pt')"
      ],
      "metadata": {
        "id": "TdumBS8DR2YV"
      },
      "execution_count": 22,
      "outputs": []
    },
    {
      "cell_type": "code",
      "source": [
        "with torch.no_grad():\n",
        "  logits = model(**inputs).logits"
      ],
      "metadata": {
        "id": "koxzELzWSCkg"
      },
      "execution_count": 23,
      "outputs": []
    },
    {
      "cell_type": "code",
      "source": [
        "pretrained_class_ids = torch.arange(0, logits.shape[-1])[torch.sigmoid(logits).squeeze(dim=0)>0.5]"
      ],
      "metadata": {
        "id": "WS8gCGj-SJ-T"
      },
      "execution_count": 24,
      "outputs": []
    },
    {
      "cell_type": "code",
      "source": [
        "pretrained_class_ids"
      ],
      "metadata": {
        "colab": {
          "base_uri": "https://localhost:8080/"
        },
        "id": "ZZ9gD1HBSwQf",
        "outputId": "658edc64-32c8-4c37-e8a2-52fdd04fe592"
      },
      "execution_count": 25,
      "outputs": [
        {
          "output_type": "execute_result",
          "data": {
            "text/plain": [
              "tensor([0, 1])"
            ]
          },
          "metadata": {},
          "execution_count": 25
        }
      ]
    },
    {
      "cell_type": "markdown",
      "source": [
        "- 하나의 label만 있을 수 있고, 여러개 있을 수 있고\n",
        "- 예측된 레이블이 없을 수도 있음"
      ],
      "metadata": {
        "id": "i0RJhxslTEG1"
      }
    },
    {
      "cell_type": "markdown",
      "source": [
        "**Fine Tuning**"
      ],
      "metadata": {
        "id": "FcdvWBe-T30n"
      }
    },
    {
      "cell_type": "code",
      "source": [
        "'''\n",
        "num_labels = len(model.config.id2label)\n",
        "model = TransfoXLForSequenceClassification.from_pretrained('transfo-xl-wt103',\n",
        "                                                           num_labels=num_labels,\n",
        "                                                           problem_type='multi_label_classification')\n",
        "                                                           '''"
      ],
      "metadata": {
        "id": "gRu4Ad2ZSXIl"
      },
      "execution_count": null,
      "outputs": []
    },
    {
      "cell_type": "code",
      "source": [
        "#labels = torch.sum(torch.nn.functional.one_hot(pretrained_class_ids[None,:].clone(), num_class=num_labels),dim=1).to(torch.float)"
      ],
      "metadata": {
        "id": "WUR5BwdHTQ5X"
      },
      "execution_count": null,
      "outputs": []
    }
  ]
}