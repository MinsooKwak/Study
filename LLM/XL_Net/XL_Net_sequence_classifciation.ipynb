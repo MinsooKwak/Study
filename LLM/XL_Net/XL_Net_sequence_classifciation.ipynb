{
  "nbformat": 4,
  "nbformat_minor": 0,
  "metadata": {
    "colab": {
      "provenance": [],
      "authorship_tag": "ABX9TyPwhe53G+2TD3iSSEyWtShV",
      "include_colab_link": true
    },
    "kernelspec": {
      "name": "python3",
      "display_name": "Python 3"
    },
    "language_info": {
      "name": "python"
    }
  },
  "cells": [
    {
      "cell_type": "markdown",
      "metadata": {
        "id": "view-in-github",
        "colab_type": "text"
      },
      "source": [
        "<a href=\"https://colab.research.google.com/github/MinsooKwak/Study/blob/main/LLM/XL_Net/XL_Net_sequence_classifciation.ipynb\" target=\"_parent\"><img src=\"https://colab.research.google.com/assets/colab-badge.svg\" alt=\"Open In Colab\"/></a>"
      ]
    },
    {
      "cell_type": "markdown",
      "source": [
        "# XL_Net (Extra Large Network)"
      ],
      "metadata": {
        "id": "DkmVetDkgQ73"
      }
    },
    {
      "cell_type": "markdown",
      "source": [
        "- 사전 훈련된 transformer 신경망으로, google AI Brain팀에서 나온 모델\n",
        "- masked attention 개념이 처음 시도되었고, 모든 문제에 사용됨\n",
        "\n",
        "- 발전 단계 : BERT -> XLNet -> Transformer-XL"
      ],
      "metadata": {
        "id": "TAuMtn2ngS0v"
      }
    },
    {
      "cell_type": "markdown",
      "source": [
        "## Sequence 분류"
      ],
      "metadata": {
        "id": "13naBkSog0__"
      }
    },
    {
      "cell_type": "code",
      "execution_count": 1,
      "metadata": {
        "id": "4V1f3A-LgFy9"
      },
      "outputs": [],
      "source": [
        "#!pip install transformers"
      ]
    },
    {
      "cell_type": "markdown",
      "source": [
        "- SentencePiece는 huggingface에서 제공하므로, 다음 내용 실행"
      ],
      "metadata": {
        "id": "VmMWSyDcg82R"
      }
    },
    {
      "cell_type": "code",
      "source": [
        "#!pip install SentencePiece"
      ],
      "metadata": {
        "id": "UJgNgl6Egvix"
      },
      "execution_count": 2,
      "outputs": []
    },
    {
      "cell_type": "markdown",
      "source": [
        "- 추후 모델 가져오는 동안 오류 방지를 위해 restart"
      ],
      "metadata": {
        "id": "tPyKVL1XhLjw"
      }
    },
    {
      "cell_type": "code",
      "source": [
        "import torch\n",
        "from transformers import XLNetTokenizer, XLNetForSequenceClassification"
      ],
      "metadata": {
        "id": "fT1bG0V7g4lw"
      },
      "execution_count": 3,
      "outputs": []
    },
    {
      "cell_type": "code",
      "source": [
        "tokenizer = XLNetTokenizer.from_pretrained('xlnet-base-cased')\n",
        "\n",
        "# classification 분류 개수에 따라 num_label 조정\n",
        "model = XLNetForSequenceClassification.from_pretrained('xlnet-base-cased',num_labels=2)"
      ],
      "metadata": {
        "colab": {
          "base_uri": "https://localhost:8080/"
        },
        "id": "pIJVKvqthlSq",
        "outputId": "c6503c58-01e7-475f-80a1-46f526bbb644"
      },
      "execution_count": 4,
      "outputs": [
        {
          "output_type": "stream",
          "name": "stderr",
          "text": [
            "Some weights of XLNetForSequenceClassification were not initialized from the model checkpoint at xlnet-base-cased and are newly initialized: ['sequence_summary.summary.weight', 'logits_proj.bias', 'logits_proj.weight', 'sequence_summary.summary.bias']\n",
            "You should probably TRAIN this model on a down-stream task to be able to use it for predictions and inference.\n"
          ]
        }
      ]
    },
    {
      "cell_type": "code",
      "source": [
        "text = \"The dog is really cute\""
      ],
      "metadata": {
        "id": "icmUm_OJh9hJ"
      },
      "execution_count": 5,
      "outputs": []
    },
    {
      "cell_type": "markdown",
      "source": [
        "- text를 전달해 정수로 된 input 갖게 될 것"
      ],
      "metadata": {
        "id": "pF9yOE3DjVxy"
      }
    },
    {
      "cell_type": "code",
      "source": [
        "inputs = tokenizer.encode_plus(\n",
        "    text,\n",
        "    add_special_tokens=True,\n",
        "    padding='max_length',\n",
        "    max_length = 128,\n",
        "    truncation = True,\n",
        "    return_tensors='pt'\n",
        ")"
      ],
      "metadata": {
        "id": "JtqBVUbxiMNT"
      },
      "execution_count": 6,
      "outputs": []
    },
    {
      "cell_type": "markdown",
      "source": [
        "- input_ids를 모델에 전달해 최종 예측을 얻을 수 있다"
      ],
      "metadata": {
        "id": "NqiLPqfYjek4"
      }
    },
    {
      "cell_type": "code",
      "source": [
        "inputs"
      ],
      "metadata": {
        "colab": {
          "base_uri": "https://localhost:8080/"
        },
        "id": "qExRTDxyiaaG",
        "outputId": "ba6a7c04-9200-4c0b-f7b2-987b61ec3b5e"
      },
      "execution_count": 7,
      "outputs": [
        {
          "output_type": "execute_result",
          "data": {
            "text/plain": [
              "{'input_ids': tensor([[    5,     5,     5,     5,     5,     5,     5,     5,     5,     5,\n",
              "             5,     5,     5,     5,     5,     5,     5,     5,     5,     5,\n",
              "             5,     5,     5,     5,     5,     5,     5,     5,     5,     5,\n",
              "             5,     5,     5,     5,     5,     5,     5,     5,     5,     5,\n",
              "             5,     5,     5,     5,     5,     5,     5,     5,     5,     5,\n",
              "             5,     5,     5,     5,     5,     5,     5,     5,     5,     5,\n",
              "             5,     5,     5,     5,     5,     5,     5,     5,     5,     5,\n",
              "             5,     5,     5,     5,     5,     5,     5,     5,     5,     5,\n",
              "             5,     5,     5,     5,     5,     5,     5,     5,     5,     5,\n",
              "             5,     5,     5,     5,     5,     5,     5,     5,     5,     5,\n",
              "             5,     5,     5,     5,     5,     5,     5,     5,     5,     5,\n",
              "             5,     5,     5,     5,     5,     5,     5,     5,     5,     5,\n",
              "             5,    32,  2288,    27,   343, 10920,     4,     3]]), 'token_type_ids': tensor([[3, 3, 3, 3, 3, 3, 3, 3, 3, 3, 3, 3, 3, 3, 3, 3, 3, 3, 3, 3, 3, 3, 3, 3,\n",
              "         3, 3, 3, 3, 3, 3, 3, 3, 3, 3, 3, 3, 3, 3, 3, 3, 3, 3, 3, 3, 3, 3, 3, 3,\n",
              "         3, 3, 3, 3, 3, 3, 3, 3, 3, 3, 3, 3, 3, 3, 3, 3, 3, 3, 3, 3, 3, 3, 3, 3,\n",
              "         3, 3, 3, 3, 3, 3, 3, 3, 3, 3, 3, 3, 3, 3, 3, 3, 3, 3, 3, 3, 3, 3, 3, 3,\n",
              "         3, 3, 3, 3, 3, 3, 3, 3, 3, 3, 3, 3, 3, 3, 3, 3, 3, 3, 3, 3, 3, 3, 3, 3,\n",
              "         3, 0, 0, 0, 0, 0, 0, 2]]), 'attention_mask': tensor([[0, 0, 0, 0, 0, 0, 0, 0, 0, 0, 0, 0, 0, 0, 0, 0, 0, 0, 0, 0, 0, 0, 0, 0,\n",
              "         0, 0, 0, 0, 0, 0, 0, 0, 0, 0, 0, 0, 0, 0, 0, 0, 0, 0, 0, 0, 0, 0, 0, 0,\n",
              "         0, 0, 0, 0, 0, 0, 0, 0, 0, 0, 0, 0, 0, 0, 0, 0, 0, 0, 0, 0, 0, 0, 0, 0,\n",
              "         0, 0, 0, 0, 0, 0, 0, 0, 0, 0, 0, 0, 0, 0, 0, 0, 0, 0, 0, 0, 0, 0, 0, 0,\n",
              "         0, 0, 0, 0, 0, 0, 0, 0, 0, 0, 0, 0, 0, 0, 0, 0, 0, 0, 0, 0, 0, 0, 0, 0,\n",
              "         0, 1, 1, 1, 1, 1, 1, 1]])}"
            ]
          },
          "metadata": {},
          "execution_count": 7
        }
      ]
    },
    {
      "cell_type": "code",
      "source": [
        "# Classification 수행\n",
        "outputs = model(**inputs)\n",
        "logits = outputs.logits\n",
        "predicted_class = torch.argmax(logits, dim=1).item()"
      ],
      "metadata": {
        "id": "UfQ6-n1citV8"
      },
      "execution_count": 8,
      "outputs": []
    },
    {
      "cell_type": "markdown",
      "source": [
        "- outputs 보면 큰 tensor가 나타남\n",
        "- 텐서 안에 mems 있고\n",
        "- 리스트 안에 또 다른 리스트, 그 안에 다른 리스트가 이어짐\n"
      ],
      "metadata": {
        "id": "gdqjtgscj-fh"
      }
    },
    {
      "cell_type": "code",
      "source": [
        "#outputs"
      ],
      "metadata": {
        "id": "SsQPqfytjyop"
      },
      "execution_count": 9,
      "outputs": []
    },
    {
      "cell_type": "markdown",
      "source": [
        "- logits가 최종 예측 클래스를 나타냄"
      ],
      "metadata": {
        "id": "17Wk80FIkZdJ"
      }
    },
    {
      "cell_type": "code",
      "source": [
        "logits"
      ],
      "metadata": {
        "colab": {
          "base_uri": "https://localhost:8080/"
        },
        "id": "x8XV7eWIj5T2",
        "outputId": "4595a6b6-a5b0-4af8-c74f-91fa45f90c2a"
      },
      "execution_count": 10,
      "outputs": [
        {
          "output_type": "execute_result",
          "data": {
            "text/plain": [
              "tensor([[ 0.1570, -0.2479]], grad_fn=<AddmmBackward0>)"
            ]
          },
          "metadata": {},
          "execution_count": 10
        }
      ]
    },
    {
      "cell_type": "code",
      "source": [
        "predicted_class"
      ],
      "metadata": {
        "colab": {
          "base_uri": "https://localhost:8080/"
        },
        "id": "PnczFoVLkTmn",
        "outputId": "b188f371-b9d5-4561-f065-852ec486b2d1"
      },
      "execution_count": 11,
      "outputs": [
        {
          "output_type": "execute_result",
          "data": {
            "text/plain": [
              "0"
            ]
          },
          "metadata": {},
          "execution_count": 11
        }
      ]
    },
    {
      "cell_type": "code",
      "source": [
        "# Get predicted Label\n",
        "labels = ['Negative','Positive']  # replace with actual class label\n",
        "predicted_label = labels[predicted_class]\n",
        "\n",
        "print('Text: ',text)\n",
        "print('Predicted Label:', predicted_label)"
      ],
      "metadata": {
        "colab": {
          "base_uri": "https://localhost:8080/"
        },
        "id": "385wPicCken7",
        "outputId": "4ed6e3c0-36f9-41b3-9361-6b5f2cc47106"
      },
      "execution_count": 13,
      "outputs": [
        {
          "output_type": "stream",
          "name": "stdout",
          "text": [
            "Text:  The dog is really cute\n",
            "Predicted Label: Negative\n"
          ]
        }
      ]
    },
    {
      "cell_type": "markdown",
      "source": [
        "- zeroshot sequence 분류에 사용될 수 있다고 말할 수 있으나, 그건 아니다.\n",
        "- 추후 살펴볼 예정\n",
        "- 오해한 이유는 num_label이 있었기 때문"
      ],
      "metadata": {
        "id": "8lijLXK-lCwU"
      }
    }
  ]
}