{
  "cells": [
    {
      "cell_type": "markdown",
      "metadata": {
        "id": "view-in-github",
        "colab_type": "text"
      },
      "source": [
        "<a href=\"https://colab.research.google.com/github/MinsooKwak/Study/blob/main/MultiModal/Gemini_API_%EC%9E%90%EC%97%B0%EC%96%B4_%ED%98%B8%EC%B6%9C_%EC%82%AC%EC%9A%A9.ipynb\" target=\"_parent\"><img src=\"https://colab.research.google.com/assets/colab-badge.svg\" alt=\"Open In Colab\"/></a>"
      ]
    },
    {
      "cell_type": "markdown",
      "id": "a4496469-7703-459f-a046-696b0b4b3146",
      "metadata": {
        "id": "a4496469-7703-459f-a046-696b0b4b3146"
      },
      "source": [
        "## Gemini API 자연어 호출 사용"
      ]
    },
    {
      "cell_type": "markdown",
      "id": "9ca4364f-365c-4445-9d65-cf82a0f62801",
      "metadata": {
        "id": "9ca4364f-365c-4445-9d65-cf82a0f62801"
      },
      "source": [
        "### Install Python SDK"
      ]
    },
    {
      "cell_type": "raw",
      "id": "8cfd0c86-9226-4b10-a9d8-22982ddc4f7a",
      "metadata": {
        "id": "8cfd0c86-9226-4b10-a9d8-22982ddc4f7a"
      },
      "source": [
        "두 가지 방법\n",
        "1. Google AI Studio (이번 방법)\n",
        "    - API 키 먼저 받기\n",
        "2. Vertex AI"
      ]
    },
    {
      "cell_type": "code",
      "execution_count": 1,
      "id": "273d27fa-8a27-4d0f-a16b-fe97020c1808",
      "metadata": {
        "colab": {
          "base_uri": "https://localhost:8080/"
        },
        "id": "273d27fa-8a27-4d0f-a16b-fe97020c1808",
        "outputId": "bfb2d9e8-efbc-455c-d5fe-dc05ab29f9e9"
      },
      "outputs": [
        {
          "output_type": "stream",
          "name": "stdout",
          "text": [
            "\u001b[?25l     \u001b[90m━━━━━━━━━━━━━━━━━━━━━━━━━━━━━━━━━━━━━━━━\u001b[0m \u001b[32m0.0/146.8 kB\u001b[0m \u001b[31m?\u001b[0m eta \u001b[36m-:--:--\u001b[0m\r\u001b[2K     \u001b[91m━━━━━━━━━━━━━━━━━━━\u001b[0m\u001b[91m╸\u001b[0m\u001b[90m━━━━━━━━━━━━━━━━━━━━\u001b[0m \u001b[32m71.7/146.8 kB\u001b[0m \u001b[31m2.0 MB/s\u001b[0m eta \u001b[36m0:00:01\u001b[0m\r\u001b[2K     \u001b[90m━━━━━━━━━━━━━━━━━━━━━━━━━━━━━━━━━━━━━━━━\u001b[0m \u001b[32m146.8/146.8 kB\u001b[0m \u001b[31m2.4 MB/s\u001b[0m eta \u001b[36m0:00:00\u001b[0m\n",
            "\u001b[?25h\u001b[?25l     \u001b[90m━━━━━━━━━━━━━━━━━━━━━━━━━━━━━━━━━━━━━━━━\u001b[0m \u001b[32m0.0/664.5 kB\u001b[0m \u001b[31m?\u001b[0m eta \u001b[36m-:--:--\u001b[0m\r\u001b[2K     \u001b[90m━━━━━━━━━━━━━━━━━━━━━━━━━━━━━━━━━━━━━━━━\u001b[0m \u001b[32m664.5/664.5 kB\u001b[0m \u001b[31m31.9 MB/s\u001b[0m eta \u001b[36m0:00:00\u001b[0m\n",
            "\u001b[?25h"
          ]
        }
      ],
      "source": [
        "!pip install -q -U google-generativeai"
      ]
    },
    {
      "cell_type": "code",
      "execution_count": 2,
      "id": "12ef487b-277a-432e-881f-40644ac86686",
      "metadata": {
        "id": "12ef487b-277a-432e-881f-40644ac86686"
      },
      "outputs": [],
      "source": [
        "import pathlib\n",
        "import textwrap\n",
        "\n",
        "import google.generativeai as genai\n",
        "\n",
        "from IPython.display import display\n",
        "from IPython.display import Markdown\n",
        "\n",
        "# Helpers (마크다운 이쁘게 디스플레이 할 수 있게)\n",
        "def to_markdown(text):\n",
        "    text = text.replace('-', ' *')\n",
        "    return Markdown(textwrap.indent(text, '> ', predicate=lambda _:True))"
      ]
    },
    {
      "cell_type": "markdown",
      "id": "ee7c6c3b-5f6b-46dc-923e-86cd3eea711d",
      "metadata": {
        "id": "ee7c6c3b-5f6b-46dc-923e-86cd3eea711d"
      },
      "source": [
        "## Set API Key"
      ]
    },
    {
      "cell_type": "raw",
      "id": "e22b78f3-c6cf-4f71-af83-a192bf850b75",
      "metadata": {
        "id": "e22b78f3-c6cf-4f71-af83-a192bf850b75"
      },
      "source": [
        "방법1. 환경 변수에 API 키 등록 (GOOGLE_API_KEY)\n",
        "    - 시작> 우측 버튼> 시스템(Y) > 고급 시스템 서정> 고급탭> 환경변수\n",
        "    - 환경 변수 이름 : \"GOOGLE_GEMINI_API_2404\"\n",
        "    - 변수 값 : API 키 파일 위치, 파일명 함께 적기 > 확인 >> 확인\n",
        "    -- 적용하려면 명령어 창 닫았다가 다시 열어야 함\n",
        "\n",
        "방법2. genai.configure(api_key=...) 통해 API KEY 등록\n",
        "    # Google_API_KEY = \"<GOOGLE_API_KEY>\"\n",
        "    # genai.configure(api_key=GOOGLE_API_KEY)"
      ]
    },
    {
      "cell_type": "code",
      "execution_count": 3,
      "id": "97d3d40d-665e-4407-a2db-9bfc0e473c26",
      "metadata": {
        "id": "97d3d40d-665e-4407-a2db-9bfc0e473c26"
      },
      "outputs": [],
      "source": [
        "# API KEY 변경할 것으로 진행\n",
        "GOOGLE_API_KEY = \"~~~\"\n",
        "genai.configure(api_key=GOOGLE_API_KEY)"
      ]
    },
    {
      "cell_type": "markdown",
      "id": "20ead7a1-4db1-42f7-8c29-621fe1b8c04d",
      "metadata": {
        "id": "20ead7a1-4db1-42f7-8c29-621fe1b8c04d"
      },
      "source": [
        "### 활용 가능 모델 확인하기"
      ]
    },
    {
      "cell_type": "markdown",
      "id": "5e874031-cb25-4e24-9803-d7e7859d9618",
      "metadata": {
        "id": "5e874031-cb25-4e24-9803-d7e7859d9618"
      },
      "source": [
        "`list_models`를 활용해 사용 가능 Gemini 모델을 확인\n",
        "- `gemini-pro` : 텍스트 전용 프롬프트에 최적화\n",
        "- `gemini-pro-vision` : 텍스트와 이미지 프롬프트에 최적화"
      ]
    },
    {
      "cell_type": "raw",
      "id": "1ca55228-5e0e-4d41-a449-9c0f1d9f4ff1",
      "metadata": {
        "id": "1ca55228-5e0e-4d41-a449-9c0f1d9f4ff1"
      },
      "source": [
        "2024.04.24 기준\n",
        "- rate limit (분당 요청 수, RPM) 상향 할 수 있음 (Doc 참조)"
      ]
    },
    {
      "cell_type": "code",
      "execution_count": 4,
      "id": "27838afa-01f0-4d66-b5d2-3e49c4c0f057",
      "metadata": {
        "colab": {
          "base_uri": "https://localhost:8080/",
          "height": 139
        },
        "id": "27838afa-01f0-4d66-b5d2-3e49c4c0f057",
        "outputId": "87bb3740-c29f-4c1e-b2e4-51f15017891a"
      },
      "outputs": [
        {
          "output_type": "stream",
          "name": "stdout",
          "text": [
            "models/gemini-1.0-pro\n",
            "models/gemini-1.0-pro-001\n",
            "models/gemini-1.0-pro-latest\n",
            "models/gemini-1.0-pro-vision-latest\n",
            "models/gemini-1.5-pro-latest\n",
            "models/gemini-pro\n",
            "models/gemini-pro-vision\n"
          ]
        }
      ],
      "source": [
        "for m in genai.list_models():\n",
        "    if 'generateContent' in m.supported_generation_methods:\n",
        "        print(m.name)"
      ]
    },
    {
      "cell_type": "markdown",
      "id": "f4b6388a-8f8d-4183-a1e6-61cc95f6fd80",
      "metadata": {
        "id": "f4b6388a-8f8d-4183-a1e6-61cc95f6fd80"
      },
      "source": [
        "## Text 생성하기"
      ]
    },
    {
      "cell_type": "code",
      "execution_count": 5,
      "id": "dac6423a-8ac5-4259-9b1e-e1f1a1404248",
      "metadata": {
        "id": "dac6423a-8ac5-4259-9b1e-e1f1a1404248"
      },
      "outputs": [],
      "source": [
        "model = genai.GenerativeModel('gemini-pro')"
      ]
    },
    {
      "cell_type": "code",
      "execution_count": 6,
      "id": "33c3bfe0-6dcd-45c3-8974-792b735f9224",
      "metadata": {
        "colab": {
          "base_uri": "https://localhost:8080/",
          "height": 52
        },
        "id": "33c3bfe0-6dcd-45c3-8974-792b735f9224",
        "outputId": "61e24e58-f323-4e54-be1b-600ba408b540"
      },
      "outputs": [
        {
          "output_type": "stream",
          "name": "stdout",
          "text": [
            "CPU times: user 99.1 ms, sys: 12.6 ms, total: 112 ms\n",
            "Wall time: 8.36 s\n"
          ]
        }
      ],
      "source": [
        "%%time\n",
        "response = model.generate_content(\"인생에 중요한 가치를 정의해줘\")"
      ]
    },
    {
      "cell_type": "code",
      "execution_count": 7,
      "id": "6f973544-9302-4847-84af-b50e00249623",
      "metadata": {
        "colab": {
          "base_uri": "https://localhost:8080/",
          "height": 87
        },
        "id": "6f973544-9302-4847-84af-b50e00249623",
        "outputId": "be85e58a-1bd6-476d-8879-c7d6179314ba"
      },
      "outputs": [
        {
          "output_type": "execute_result",
          "data": {
            "text/plain": [
              "'**목적**\\n\\n* 의의 있는 삶을 살고 자신의 목표를 실현하기 위한 방향성과 의미\\n* 열정, 열망, 사명감을 통해 정의됨\\n\\n**성실성**\\n\\n* 자신의 가치관과 신념에 부합하는 진정하고 정직한 삶\\n* 신뢰성, 책임감, 일관성을 특징으로 함\\n\\n**사랑**\\n\\n* 타인과의 깊은 정서적 연관성과 보살핌\\n* 연민, 친절, 공감, 희생을 포함함\\n\\n**배려**\\n\\n* 자신의 행동이 타인과 환경에 미치는 영향에 대한 고려\\n* 책임감, 공감, 환경 보호 의식을 특징으로 함\\n\\n**성장**\\n\\n* 지적, 정서적, 영적으로 성장하고 배우는 지속적인 노력\\n* 호기심, 개방성, 탄력성을 포함함\\n\\n**감사**\\n\\n* 자신이 가진 것과 경험에 대한 인식과 감사\\n* 낙관주의, 만족감, 평온함을 조장함\\n\\n**용기**\\n\\n* 어려움이나 불확실성에 맞서기 위한 능력\\n* 탄력성, 결단력, 확고함을 포함함\\n\\n**창의성**\\n\\n* 새로운 아이디어와 해결책을 창출하고 표현하는 능력\\n* 상상력, 독창성, 탐구심을 포함함\\n\\n**유머**\\n\\n* 삶의 역경과 어려움을 가볍게 여기는 능력\\n* 낙관주의, 회복력, 사회적 유대를 증진함\\n\\n**커뮤니티**\\n\\n* 타인과의 뜻깊은 관계와 소속감\\n* 교류, 지원, 협력을 포함함'"
            ],
            "application/vnd.google.colaboratory.intrinsic+json": {
              "type": "string"
            }
          },
          "metadata": {},
          "execution_count": 7
        }
      ],
      "source": [
        "response.text"
      ]
    },
    {
      "cell_type": "code",
      "execution_count": 8,
      "id": "56b06085-54be-4228-9655-c9b470631c5e",
      "metadata": {
        "colab": {
          "base_uri": "https://localhost:8080/",
          "height": 680
        },
        "id": "56b06085-54be-4228-9655-c9b470631c5e",
        "outputId": "3c14d11c-40e8-473d-d44e-6e4e342bda3f"
      },
      "outputs": [
        {
          "output_type": "execute_result",
          "data": {
            "text/plain": [
              "<IPython.core.display.Markdown object>"
            ],
            "text/markdown": "> **목적**\n> \n> * 의의 있는 삶을 살고 자신의 목표를 실현하기 위한 방향성과 의미\n> * 열정, 열망, 사명감을 통해 정의됨\n> \n> **성실성**\n> \n> * 자신의 가치관과 신념에 부합하는 진정하고 정직한 삶\n> * 신뢰성, 책임감, 일관성을 특징으로 함\n> \n> **사랑**\n> \n> * 타인과의 깊은 정서적 연관성과 보살핌\n> * 연민, 친절, 공감, 희생을 포함함\n> \n> **배려**\n> \n> * 자신의 행동이 타인과 환경에 미치는 영향에 대한 고려\n> * 책임감, 공감, 환경 보호 의식을 특징으로 함\n> \n> **성장**\n> \n> * 지적, 정서적, 영적으로 성장하고 배우는 지속적인 노력\n> * 호기심, 개방성, 탄력성을 포함함\n> \n> **감사**\n> \n> * 자신이 가진 것과 경험에 대한 인식과 감사\n> * 낙관주의, 만족감, 평온함을 조장함\n> \n> **용기**\n> \n> * 어려움이나 불확실성에 맞서기 위한 능력\n> * 탄력성, 결단력, 확고함을 포함함\n> \n> **창의성**\n> \n> * 새로운 아이디어와 해결책을 창출하고 표현하는 능력\n> * 상상력, 독창성, 탐구심을 포함함\n> \n> **유머**\n> \n> * 삶의 역경과 어려움을 가볍게 여기는 능력\n> * 낙관주의, 회복력, 사회적 유대를 증진함\n> \n> **커뮤니티**\n> \n> * 타인과의 뜻깊은 관계와 소속감\n> * 교류, 지원, 협력을 포함함"
          },
          "metadata": {},
          "execution_count": 8
        }
      ],
      "source": [
        "to_markdown(response.text)"
      ]
    },
    {
      "cell_type": "markdown",
      "id": "49e59cb0-084e-4437-9aa6-28677bc64f8b",
      "metadata": {
        "id": "49e59cb0-084e-4437-9aa6-28677bc64f8b"
      },
      "source": [
        "- API 실패시 : `GenerateContentResonse.prompt_feedback`을 확인\n",
        "    - Gemini의 어떤 정책을 어겼는지 확인할 수 있음"
      ]
    },
    {
      "cell_type": "code",
      "execution_count": 9,
      "id": "ea5e6ca0-7e3d-4f0c-ad81-ccdc3b6673fb",
      "metadata": {
        "colab": {
          "base_uri": "https://localhost:8080/"
        },
        "id": "ea5e6ca0-7e3d-4f0c-ad81-ccdc3b6673fb",
        "outputId": "28f4dc49-72d5-4ab3-a448-200f2b89cdf6"
      },
      "outputs": [
        {
          "output_type": "execute_result",
          "data": {
            "text/plain": []
          },
          "metadata": {},
          "execution_count": 9
        }
      ],
      "source": [
        "response.prompt_feedback"
      ]
    },
    {
      "cell_type": "markdown",
      "id": "0d505f95-565b-4c07-bd15-512c58e08989",
      "metadata": {
        "id": "0d505f95-565b-4c07-bd15-512c58e08989"
      },
      "source": [
        "## Generation Config"
      ]
    },
    {
      "cell_type": "code",
      "execution_count": 10,
      "id": "5ca00e99-2898-4239-809c-cfd8c77538be",
      "metadata": {
        "id": "5ca00e99-2898-4239-809c-cfd8c77538be"
      },
      "outputs": [],
      "source": [
        "# Set up model\n",
        "generation_config = {\n",
        "    \"temperature\" : 0.9,\n",
        "    \"max_output_tokens\" : 512,\n",
        "}"
      ]
    },
    {
      "cell_type": "markdown",
      "id": "37cd59c3-2741-4e95-a1ea-7e3011c55ecc",
      "metadata": {
        "id": "37cd59c3-2741-4e95-a1ea-7e3011c55ecc"
      },
      "source": [
        "- temperature : 모델이 단어를 하나씩 만들어낼 때 얼마만큼 랜덤하게 만들 것인지\n",
        "    - 0 에 가까울수록 동일한 대답을 만들어냄\n",
        "    - 높을수록 다른 응답 만들어낼 가능성이 높음 <br>\n",
        "- max_output_tokens : 출력 길이"
      ]
    },
    {
      "cell_type": "code",
      "execution_count": 11,
      "id": "9f134cc5-a2c1-4b1e-ae99-a89fb63714f0",
      "metadata": {
        "colab": {
          "base_uri": "https://localhost:8080/",
          "height": 52
        },
        "id": "9f134cc5-a2c1-4b1e-ae99-a89fb63714f0",
        "outputId": "e5469275-6792-46d9-aee2-da46a494b1d0"
      },
      "outputs": [
        {
          "output_type": "stream",
          "name": "stdout",
          "text": [
            "CPU times: user 83.3 ms, sys: 10.6 ms, total: 93.9 ms\n",
            "Wall time: 6.86 s\n"
          ]
        }
      ],
      "source": [
        "%%time\n",
        "response = model.generate_content(\"인생에 중요한 가치를 정의해줘\",\n",
        "                                 generation_config = generation_config)"
      ]
    },
    {
      "cell_type": "code",
      "execution_count": 12,
      "id": "1441c042-5bdb-468c-8c75-90e579f04c04",
      "metadata": {
        "colab": {
          "base_uri": "https://localhost:8080/",
          "height": 393
        },
        "id": "1441c042-5bdb-468c-8c75-90e579f04c04",
        "outputId": "84fb2c3c-6e30-4c9b-c8d5-608dbd622981"
      },
      "outputs": [
        {
          "output_type": "execute_result",
          "data": {
            "text/plain": [
              "<IPython.core.display.Markdown object>"
            ],
            "text/markdown": "> **핵심적 가치:**\n> \n> * **인격성:** 정직, 진실성, 무결성, 겸손\n> * **관계:** 사랑, 연민, 개방성, 신뢰\n> * **성장:** 탐구, 학습, 개선, 탄력성\n> * **목적:** 의미, 방향, 목표, 성취\n> * **행복:** 기쁨, 만족, 감사, 웰빙\n> \n> **기타 중요한 가치:**\n> \n> * **책임감:** 의무, 신뢰성, 신뢰성\n> * **공평성:** 정의, 공평성, 편견 없는 태도\n> * **존중:** 다른 사람의 가치, 신념, 권리를 인정\n> * **안전:** 신체적, 정서적, 사회적 웰빙 보호\n> * **지속 가능성:** 환경 보호, 미래 세대에 대한 배려\n> * **창의성:** 독창성, 혁신, 문제 해결 능력\n> * **자유:** 선택, 자기 표현, 개인적 발전\n> * **공동체:** 소속감, 협력, 지원 네트워크\n> * **나눔:** 연민, 관대함, 남에게 기여\n> * **건강:** 신체적, 정서적, 정신적 웰빙\n> * **균형:** 일, 레저, 가족, 개인적 성장의 조화\n> * **유연성:** 변화에 적응하고 새로운 가능성을 수용하는 능력"
          },
          "metadata": {},
          "execution_count": 12
        }
      ],
      "source": [
        "to_markdown(response.text)"
      ]
    },
    {
      "cell_type": "markdown",
      "id": "b4f6ad3c-efcd-4466-a1ca-4dbfcf92a31d",
      "metadata": {
        "id": "b4f6ad3c-efcd-4466-a1ca-4dbfcf92a31d"
      },
      "source": [
        "## Streaming"
      ]
    },
    {
      "cell_type": "markdown",
      "id": "af52af44-6370-4f43-8c64-b68ea0d55e22",
      "metadata": {
        "id": "af52af44-6370-4f43-8c64-b68ea0d55e22"
      },
      "source": [
        "- `stream = True`로 설정할 경우 응답이 생성되는 동안 응답을 스트리밍 할 수 있게 됨\n",
        "- 기본적으로는 전체 생성 프로세승 완료 후 응답을 반환함"
      ]
    },
    {
      "cell_type": "code",
      "execution_count": 13,
      "id": "b55e9061-a7ad-4fb5-a700-0aecab9a6472",
      "metadata": {
        "colab": {
          "base_uri": "https://localhost:8080/",
          "height": 52
        },
        "id": "b55e9061-a7ad-4fb5-a700-0aecab9a6472",
        "outputId": "628c0574-9910-45c3-f742-7ee9e790a1f9"
      },
      "outputs": [
        {
          "output_type": "stream",
          "name": "stdout",
          "text": [
            "CPU times: user 113 ms, sys: 9.45 ms, total: 122 ms\n",
            "Wall time: 9.53 s\n"
          ]
        }
      ],
      "source": [
        "%%time\n",
        "response = model.generate_content(\"인생에 중요한 가치를 정의해줘\", stream=True)"
      ]
    },
    {
      "cell_type": "code",
      "execution_count": 14,
      "id": "494fbe6d-2271-409b-a669-90ceba4da87f",
      "metadata": {
        "colab": {
          "base_uri": "https://localhost:8080/"
        },
        "id": "494fbe6d-2271-409b-a669-90ceba4da87f",
        "outputId": "1a1b343a-154e-4684-8c2f-bd4d7ee20a77"
      },
      "outputs": [
        {
          "output_type": "stream",
          "name": "stdout",
          "text": [
            "**인생에 중요한 가치:**\n",
            "\n",
            "**1. 사랑과 관계\n",
            "________________________________________________________________________________\n",
            ":**\n",
            "* 가족, 친구, 파트너와의 사랑과 지원\n",
            "* 건강한 대인 관계의 육성과 유지\n",
            "\n",
            "\n",
            "________________________________________________________________________________\n",
            "**2. 목적과 의미:**\n",
            "* 자신이 삶에서 추구하는 의도와 방향\n",
            "* 삶의 목적을 발견하고 그것을 향해 노력하는 것\n",
            "\n",
            "**3. 건강과 웰빙:**\n",
            "* 신체적, 정신적, 정\n",
            "________________________________________________________________________________\n",
            "서적 건강의 유지\n",
            "* 균형 잡힌 삶을 영위하고 전반적인 웰빙 증진\n",
            "\n",
            "**4. 지속 가능성과 환경:**\n",
            "* 현재와 미래 세대를 위해 자원을 보존하는 것\n",
            "* 환경 보호와 지속 가능한 관행에 적극적으로 참여하는 것\n",
            "\n",
            "**5. 교육과 지적 성장:**\n",
            "* 지속적인 학습과 탐구\n",
            "* 지식과 기술을 확장하고 새로운 관점을 이해하는 것\n",
            "\n",
            "**6. 성실성과 윤리\n",
            "________________________________________________________________________________\n",
            ":**\n",
            "* 진실되고 믿을 수 있게 행동하는 것\n",
            "* 자신의 가치관에 따라 생활하고 타인을 공정하고 정직하게 대하는 것\n",
            "\n",
            "**7. 창의성과 표현:**\n",
            "* 고유한 재능과 열정 추구\n",
            "* 창조성을 발휘하고 개인적인 표현을 장려하는 것\n",
            "\n",
            "**8. 서비스와 기여:**\n",
            "* 사회나 타인에게 긍정적인 영향을 미치는 것\n",
            "* 자원봉사나 다른 형태의 기여를 통해 공동체에 도움을 주는 것\n",
            "\n",
            "**9. 재정적 안정:**\n",
            "* 필요를 충족하고 목표를 달성하기 위한 안정적이고 충분한 재정 자원을 갖는 것\n",
            "* 재정적 책임과 장기적인 계획을 세우는 것\n",
            "\n",
            "**10. 즐거움과 만족:**\n",
            "* 삶을 즐기고 그 과정에서 기쁨과 만족을 찾는 것\n",
            "* 자신의 가치관과 우선 순위에 따라 삶을 영위하는 것\n",
            "________________________________________________________________________________\n"
          ]
        }
      ],
      "source": [
        "for chunk in response:\n",
        "    print(chunk.text)\n",
        "    print(\"_\" * 80)"
      ]
    },
    {
      "cell_type": "markdown",
      "id": "e700f27d-db26-4799-b822-0f5ab9d5ba11",
      "metadata": {
        "id": "e700f27d-db26-4799-b822-0f5ab9d5ba11"
      },
      "source": [
        "## Chat Conversations"
      ]
    },
    {
      "cell_type": "markdown",
      "id": "f8d61dc2-679e-41cc-9118-b07f8373fb3a",
      "metadata": {
        "id": "f8d61dc2-679e-41cc-9118-b07f8373fb3a"
      },
      "source": [
        "- 모델 선언 후 `moodel.start_chat`을 통해 chat 가능\n",
        "- history=[] 변수를 통해 히스토리 넣을 수 있고 안넣을 수 있음"
      ]
    },
    {
      "cell_type": "code",
      "execution_count": 15,
      "id": "d1e8143c-bea0-477a-a2f2-afc449e4693c",
      "metadata": {
        "colab": {
          "base_uri": "https://localhost:8080/"
        },
        "id": "d1e8143c-bea0-477a-a2f2-afc449e4693c",
        "outputId": "614f4980-a24e-47bb-a600-903468ba84be"
      },
      "outputs": [
        {
          "output_type": "execute_result",
          "data": {
            "text/plain": [
              "ChatSession(\n",
              "    model=genai.GenerativeModel(\n",
              "        model_name='models/gemini-pro',\n",
              "        generation_config={},\n",
              "        safety_settings={},\n",
              "        tools=None,\n",
              "        system_instruction=None,\n",
              "    ),\n",
              "    history=[]\n",
              ")"
            ]
          },
          "metadata": {},
          "execution_count": 15
        }
      ],
      "source": [
        "model = genai.GenerativeModel('gemini-pro')\n",
        "chat = model.start_chat(history=[])\n",
        "chat"
      ]
    },
    {
      "cell_type": "markdown",
      "id": "ff01bd33-440f-4171-b25a-8fa34296e97a",
      "metadata": {
        "id": "ff01bd33-440f-4171-b25a-8fa34296e97a"
      },
      "source": [
        "- ChatSession의 `chat.send_message`를 통해 응답 보냄\n",
        "- response를 `response.text`로 받아올 수 있음"
      ]
    },
    {
      "cell_type": "code",
      "execution_count": 16,
      "id": "b34ba763-ff4f-4918-a03d-59106d9f989e",
      "metadata": {
        "colab": {
          "base_uri": "https://localhost:8080/",
          "height": 62
        },
        "id": "b34ba763-ff4f-4918-a03d-59106d9f989e",
        "outputId": "d011c790-e512-40d5-e319-0300f9eac074"
      },
      "outputs": [
        {
          "output_type": "execute_result",
          "data": {
            "text/plain": [
              "<IPython.core.display.Markdown object>"
            ],
            "text/markdown": "> 인간이 지녀야 할 가치는 친절, 동정심, 정직, 존중, 책임감을 통해 타인과 자신을 향한 배려를 보이는 것이다."
          },
          "metadata": {},
          "execution_count": 16
        }
      ],
      "source": [
        "response = chat.send_message(\"어린 아이에게 인간이 지녀야 할 가치에 대해 한 문장으로 설명해줘\")\n",
        "to_markdown(response.text)"
      ]
    },
    {
      "cell_type": "code",
      "execution_count": 17,
      "id": "e5f2dfe8-8474-4d60-bbfc-5b3cec468ea9",
      "metadata": {
        "colab": {
          "base_uri": "https://localhost:8080/",
          "height": 62
        },
        "id": "e5f2dfe8-8474-4d60-bbfc-5b3cec468ea9",
        "outputId": "1d16febe-171e-4512-da63-119c3e82fa95"
      },
      "outputs": [
        {
          "output_type": "execute_result",
          "data": {
            "text/plain": [
              "<IPython.core.display.Markdown object>"
            ],
            "text/markdown": "> AGI가 보편화될 때 어린이들은 AI 기술의 잠재력을 인식하고 이를 책임감 있고 윤리적으로 사용하는 방법을 기억해야 합니다."
          },
          "metadata": {},
          "execution_count": 17
        }
      ],
      "source": [
        "response = chat.send_message(\"AGI가 보편화가 될 때 어린 아이들이 기억해야 하는 것이 무엇일지 한 문장으로 설명해줘\")\n",
        "to_markdown(response.text)"
      ]
    },
    {
      "cell_type": "code",
      "execution_count": 18,
      "id": "231c9e1a-832d-4255-aa05-c0cfb71c0107",
      "metadata": {
        "colab": {
          "base_uri": "https://localhost:8080/"
        },
        "id": "231c9e1a-832d-4255-aa05-c0cfb71c0107",
        "outputId": "a16d577a-7ce1-4510-e5d9-0035352c23d3"
      },
      "outputs": [
        {
          "output_type": "execute_result",
          "data": {
            "text/plain": [
              "[parts {\n",
              "   text: \"\\354\\226\\264\\353\\246\\260 \\354\\225\\204\\354\\235\\264\\354\\227\\220\\352\\262\\214 \\354\\235\\270\\352\\260\\204\\354\\235\\264 \\354\\247\\200\\353\\205\\200\\354\\225\\274 \\355\\225\\240 \\352\\260\\200\\354\\271\\230\\354\\227\\220 \\353\\214\\200\\355\\225\\264 \\355\\225\\234 \\353\\254\\270\\354\\236\\245\\354\\234\\274\\353\\241\\234 \\354\\204\\244\\353\\252\\205\\355\\225\\264\\354\\244\\230\"\n",
              " }\n",
              " role: \"user\",\n",
              " parts {\n",
              "   text: \"\\354\\235\\270\\352\\260\\204\\354\\235\\264 \\354\\247\\200\\353\\205\\200\\354\\225\\274 \\355\\225\\240 \\352\\260\\200\\354\\271\\230\\353\\212\\224 \\354\\271\\234\\354\\240\\210, \\353\\217\\231\\354\\240\\225\\354\\213\\254, \\354\\240\\225\\354\\247\\201, \\354\\241\\264\\354\\244\\221, \\354\\261\\205\\354\\236\\204\\352\\260\\220\\354\\235\\204 \\355\\206\\265\\355\\225\\264 \\355\\203\\200\\354\\235\\270\\352\\263\\274 \\354\\236\\220\\354\\213\\240\\354\\235\\204 \\355\\226\\245\\355\\225\\234 \\353\\260\\260\\353\\240\\244\\353\\245\\274 \\353\\263\\264\\354\\235\\264\\353\\212\\224 \\352\\262\\203\\354\\235\\264\\353\\213\\244.\"\n",
              " }\n",
              " role: \"model\",\n",
              " parts {\n",
              "   text: \"AGI\\352\\260\\200 \\353\\263\\264\\355\\216\\270\\355\\231\\224\\352\\260\\200 \\353\\220\\240 \\353\\225\\214 \\354\\226\\264\\353\\246\\260 \\354\\225\\204\\354\\235\\264\\353\\223\\244\\354\\235\\264 \\352\\270\\260\\354\\226\\265\\355\\225\\264\\354\\225\\274 \\355\\225\\230\\353\\212\\224 \\352\\262\\203\\354\\235\\264 \\353\\254\\264\\354\\227\\207\\354\\235\\274\\354\\247\\200 \\355\\225\\234 \\353\\254\\270\\354\\236\\245\\354\\234\\274\\353\\241\\234 \\354\\204\\244\\353\\252\\205\\355\\225\\264\\354\\244\\230\"\n",
              " }\n",
              " role: \"user\",\n",
              " parts {\n",
              "   text: \"AGI\\352\\260\\200 \\353\\263\\264\\355\\216\\270\\355\\231\\224\\353\\220\\240 \\353\\225\\214 \\354\\226\\264\\353\\246\\260\\354\\235\\264\\353\\223\\244\\354\\235\\200 AI \\352\\270\\260\\354\\210\\240\\354\\235\\230 \\354\\236\\240\\354\\236\\254\\353\\240\\245\\354\\235\\204 \\354\\235\\270\\354\\213\\235\\355\\225\\230\\352\\263\\240 \\354\\235\\264\\353\\245\\274 \\354\\261\\205\\354\\236\\204\\352\\260\\220 \\354\\236\\210\\352\\263\\240 \\354\\234\\244\\353\\246\\254\\354\\240\\201\\354\\234\\274\\353\\241\\234 \\354\\202\\254\\354\\232\\251\\355\\225\\230\\353\\212\\224 \\353\\260\\251\\353\\262\\225\\354\\235\\204 \\352\\270\\260\\354\\226\\265\\355\\225\\264\\354\\225\\274 \\355\\225\\251\\353\\213\\210\\353\\213\\244.\"\n",
              " }\n",
              " role: \"model\"]"
            ]
          },
          "metadata": {},
          "execution_count": 18
        }
      ],
      "source": [
        "chat.history"
      ]
    },
    {
      "cell_type": "markdown",
      "id": "6a2eafec-6a43-4a7d-8aa2-a97ec8b82075",
      "metadata": {
        "id": "6a2eafec-6a43-4a7d-8aa2-a97ec8b82075"
      },
      "source": [
        "- history를 보면 parts 안에 role이 user turn, model turn으로 대화가 잘 쌓이고 있음"
      ]
    },
    {
      "cell_type": "code",
      "execution_count": 19,
      "id": "cb2bb708-c02d-4d8d-8738-aea75aa2f69e",
      "metadata": {
        "colab": {
          "base_uri": "https://localhost:8080/",
          "height": 245
        },
        "id": "cb2bb708-c02d-4d8d-8738-aea75aa2f69e",
        "outputId": "5e9afdbf-4301-4867-b007-414721ac8fa1"
      },
      "outputs": [
        {
          "output_type": "stream",
          "name": "stdout",
          "text": [
            "인간이 지녀야 할 핵심 가치는 타인에\n",
            "________________________________________________________________________________\n",
            " 대한 친절, 배려, 존중을 기반으로 합니다. 이러한 가치는 타인에게 공감하고 그들의 관점을 이해\n",
            "________________________________________________________________________________\n",
            "하는 능력을 기르는 데서 비롯됩니다. 또한, 정직, 책임감, 성실성과 같은 가치는 우리 자신의 행동에 대한 책임감과 타인에 대한 신뢰를 구축하는 데 필수적입니다. 이러한 가치를 실\n",
            "________________________________________________________________________________\n",
            "천함으로써 우리는 더욱 공감적이고 책임감 있고 윤리적인 사회를 만들 수 있습니다.\n",
            "\n",
            "AGI(인공 일반 지능)가 보편화되면서 이러한 가치는 더욱 중요해집니다. AGI 시스템은 인간보다 훨씬 빠르게 배우고 문제를 해결할 수 있지만, 인간의 가치와 윤리를 이해하고 이를 자신의 행동에 반영하는 능력은 없습니다. 따라서 어린이들은 AGI 기술의 잠재력과 한계를 인식하고, 이를\n",
            "________________________________________________________________________________\n",
            " 책임감 있고 윤리적으로 사용하는 것이 중요합니다. 이는 AGI 시스템이 인간의 가치와 일치하는 방식으로 개발되고 사용되도록 보장하는 데 필수적입니다.\n",
            "________________________________________________________________________________\n"
          ]
        }
      ],
      "source": [
        "response = chat.send_message(\"고등학생 수준으로 설명해줘\", stream=True)\n",
        "\n",
        "for chunk in response:\n",
        "    print(chunk.text)\n",
        "    print(\"_\" * 80)"
      ]
    },
    {
      "cell_type": "code",
      "execution_count": 20,
      "id": "be9fb9d0-b9bd-439e-9b25-76ebb769818e",
      "metadata": {
        "colab": {
          "base_uri": "https://localhost:8080/",
          "height": 312
        },
        "id": "be9fb9d0-b9bd-439e-9b25-76ebb769818e",
        "outputId": "45838b05-a141-4142-bc5c-46a68191ca01"
      },
      "outputs": [
        {
          "output_type": "display_data",
          "data": {
            "text/plain": [
              "<IPython.core.display.Markdown object>"
            ],
            "text/markdown": "> **user**: 어린 아이에게 인간이 지녀야 할 가치에 대해 한 문장으로 설명해줘"
          },
          "metadata": {}
        },
        {
          "output_type": "display_data",
          "data": {
            "text/plain": [
              "<IPython.core.display.Markdown object>"
            ],
            "text/markdown": "> **model**: 인간이 지녀야 할 가치는 친절, 동정심, 정직, 존중, 책임감을 통해 타인과 자신을 향한 배려를 보이는 것이다."
          },
          "metadata": {}
        },
        {
          "output_type": "display_data",
          "data": {
            "text/plain": [
              "<IPython.core.display.Markdown object>"
            ],
            "text/markdown": "> **user**: AGI가 보편화가 될 때 어린 아이들이 기억해야 하는 것이 무엇일지 한 문장으로 설명해줘"
          },
          "metadata": {}
        },
        {
          "output_type": "display_data",
          "data": {
            "text/plain": [
              "<IPython.core.display.Markdown object>"
            ],
            "text/markdown": "> **model**: AGI가 보편화될 때 어린이들은 AI 기술의 잠재력을 인식하고 이를 책임감 있고 윤리적으로 사용하는 방법을 기억해야 합니다."
          },
          "metadata": {}
        },
        {
          "output_type": "display_data",
          "data": {
            "text/plain": [
              "<IPython.core.display.Markdown object>"
            ],
            "text/markdown": "> **user**: 고등학생 수준으로 설명해줘"
          },
          "metadata": {}
        },
        {
          "output_type": "display_data",
          "data": {
            "text/plain": [
              "<IPython.core.display.Markdown object>"
            ],
            "text/markdown": "> **model**: 인간이 지녀야 할 핵심 가치는 타인에 대한 친절, 배려, 존중을 기반으로 합니다. 이러한 가치는 타인에게 공감하고 그들의 관점을 이해하는 능력을 기르는 데서 비롯됩니다. 또한, 정직, 책임감, 성실성과 같은 가치는 우리 자신의 행동에 대한 책임감과 타인에 대한 신뢰를 구축하는 데 필수적입니다. 이러한 가치를 실천함으로써 우리는 더욱 공감적이고 책임감 있고 윤리적인 사회를 만들 수 있습니다.\n> \n> AGI(인공 일반 지능)가 보편화되면서 이러한 가치는 더욱 중요해집니다. AGI 시스템은 인간보다 훨씬 빠르게 배우고 문제를 해결할 수 있지만, 인간의 가치와 윤리를 이해하고 이를 자신의 행동에 반영하는 능력은 없습니다. 따라서 어린이들은 AGI 기술의 잠재력과 한계를 인식하고, 이를 책임감 있고 윤리적으로 사용하는 것이 중요합니다. 이는 AGI 시스템이 인간의 가치와 일치하는 방식으로 개발되고 사용되도록 보장하는 데 필수적입니다."
          },
          "metadata": {}
        }
      ],
      "source": [
        "for message in chat.history:\n",
        "    display(to_markdown(f'**{message.role}**: {message.parts[0].text}'))"
      ]
    },
    {
      "cell_type": "markdown",
      "id": "c529b4f3-9178-41d5-9f28-6cfaeabf8853",
      "metadata": {
        "id": "c529b4f3-9178-41d5-9f28-6cfaeabf8853"
      },
      "source": [
        "## Count Tokens\n",
        "- Gemini API는 token 단위로 과금 이뤄짐"
      ]
    },
    {
      "cell_type": "code",
      "execution_count": 21,
      "id": "1ba42c3d-5350-4e59-86d0-9e3daa3770c7",
      "metadata": {
        "colab": {
          "base_uri": "https://localhost:8080/",
          "height": 34
        },
        "id": "1ba42c3d-5350-4e59-86d0-9e3daa3770c7",
        "outputId": "fb8a811f-0b2d-438d-bd27-58326e4c4659"
      },
      "outputs": [
        {
          "output_type": "execute_result",
          "data": {
            "text/plain": [
              "total_tokens: 12"
            ]
          },
          "metadata": {},
          "execution_count": 21
        }
      ],
      "source": [
        "model.count_tokens(\"AGI가 뭔지 한 문장으로 말해줘\")"
      ]
    },
    {
      "cell_type": "code",
      "execution_count": 22,
      "id": "779df948-5bcf-454c-b6b0-a842ca8ae10e",
      "metadata": {
        "colab": {
          "base_uri": "https://localhost:8080/",
          "height": 34
        },
        "id": "779df948-5bcf-454c-b6b0-a842ca8ae10e",
        "outputId": "2ccfdaa3-997b-497b-f7b1-5f7c0d448b85"
      },
      "outputs": [
        {
          "output_type": "execute_result",
          "data": {
            "text/plain": [
              "total_tokens: 437"
            ]
          },
          "metadata": {},
          "execution_count": 22
        }
      ],
      "source": [
        "model.count_tokens(chat.history)"
      ]
    }
  ],
  "metadata": {
    "kernelspec": {
      "display_name": "Python 3 (ipykernel)",
      "language": "python",
      "name": "python3"
    },
    "language_info": {
      "codemirror_mode": {
        "name": "ipython",
        "version": 3
      },
      "file_extension": ".py",
      "mimetype": "text/x-python",
      "name": "python",
      "nbconvert_exporter": "python",
      "pygments_lexer": "ipython3",
      "version": "3.11.9"
    },
    "colab": {
      "provenance": [],
      "include_colab_link": true
    }
  },
  "nbformat": 4,
  "nbformat_minor": 5
}