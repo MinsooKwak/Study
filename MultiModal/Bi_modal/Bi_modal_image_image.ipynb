{
  "nbformat": 4,
  "nbformat_minor": 0,
  "metadata": {
    "colab": {
      "provenance": [],
      "authorship_tag": "ABX9TyPHNyxfb/In9rataRi6Ey0N",
      "include_colab_link": true
    },
    "kernelspec": {
      "name": "python3",
      "display_name": "Python 3"
    },
    "language_info": {
      "name": "python"
    }
  },
  "cells": [
    {
      "cell_type": "markdown",
      "metadata": {
        "id": "view-in-github",
        "colab_type": "text"
      },
      "source": [
        "<a href=\"https://colab.research.google.com/github/MinsooKwak/Study/blob/main/MultiModal/Bi_modal/Bi_modal_image_image.ipynb\" target=\"_parent\"><img src=\"https://colab.research.google.com/assets/colab-badge.svg\" alt=\"Open In Colab\"/></a>"
      ]
    },
    {
      "cell_type": "markdown",
      "source": [
        "# Bi-Modal / Multi-task"
      ],
      "metadata": {
        "id": "LSRNyLRPpBMM"
      }
    },
    {
      "cell_type": "markdown",
      "source": [
        "- 2가지 모달이 모두 이미지인 경우\n",
        "- 하나가 아닌 2가지 예측을 생성 (multi-task)\n",
        "  - input : face, ear image\n",
        "  - output : gender, age"
      ],
      "metadata": {
        "id": "7jDrcj0HntmA"
      }
    },
    {
      "cell_type": "markdown",
      "source": [
        "Multi-task learning : 하나의 모달에서 2개 이상의 작업을 해결하려고 할 때\n",
        "\n",
        "- 2가지의 타워를 가진 모델로, 각 타워가 다른 결과를 냄\n",
        "- 2 예측의 오류를 최소화하는 방식으로 훈련"
      ],
      "metadata": {
        "id": "SfFXHXXhoKVu"
      }
    },
    {
      "cell_type": "markdown",
      "source": [
        "- 퓨전하는 방식 중 **'concatenating'**하는 방법을 사용"
      ],
      "metadata": {
        "id": "5hXhiz5YovwE"
      }
    },
    {
      "cell_type": "code",
      "execution_count": 1,
      "metadata": {
        "id": "CP5Qie8mnf1z"
      },
      "outputs": [],
      "source": [
        "import pandas as pd\n",
        "import numpy as np\n",
        "import tensorflow as tf\n",
        "from tensorflow.keras.applications import VGG16, ResNet50\n",
        "from tensorflow.keras.models import Model\n",
        "from tensorflow.keras.layers import Input, Dense, Flatten, Concatenate, Dropout\n",
        "from tensorflow.keras.callbacks import EarlyStopping"
      ]
    },
    {
      "cell_type": "code",
      "source": [
        "from google.colab import drive\n",
        "drive.mount('/content/drive')"
      ],
      "metadata": {
        "colab": {
          "base_uri": "https://localhost:8080/"
        },
        "id": "qsXj2MtfpZbH",
        "outputId": "b9ff05a6-5894-4b68-e6ab-640562bb0207"
      },
      "execution_count": 2,
      "outputs": [
        {
          "output_type": "stream",
          "name": "stdout",
          "text": [
            "Mounted at /content/drive\n"
          ]
        }
      ]
    },
    {
      "cell_type": "markdown",
      "source": [
        "가장 상위 폴더 정의"
      ],
      "metadata": {
        "id": "G9ws_gvZtsl2"
      }
    },
    {
      "cell_type": "code",
      "source": [
        "folder_path = '/content/drive/MyDrive/Study/Dataset/Profile_Ear'"
      ],
      "metadata": {
        "id": "plc1h4YQtgx8"
      },
      "execution_count": 4,
      "outputs": []
    },
    {
      "cell_type": "code",
      "source": [
        "profile_path = '/content/drive/MyDrive/Study/Dataset/Profile_Ear/Profile'\n",
        "ear_path = '/content/drive/MyDrive/Study/Dataset/Profile_Ear/Ear'\n",
        "profile_label_path = '/content/drive/MyDrive/Study/Dataset/Profile_Ear/Profile_Label.csv'\n",
        "ear_label_path = '/content/drive/MyDrive/Study/Dataset/Profile_Ear/Ear_Label.csv'\n",
        "\n",
        "profile_labels= pd.read_csv(profile_label_path)\n",
        "ear_labels = pd.read_csv(ear_label_path)"
      ],
      "metadata": {
        "id": "1BkuVs1Utv_i"
      },
      "execution_count": 3,
      "outputs": []
    },
    {
      "cell_type": "code",
      "source": [
        "from PIL import Image\n",
        "import os\n",
        "\n",
        "for idx, row in profile_labels.iterrows():\n",
        "  profile_id, age, gender = row['ProfileID'], row['Age'], row['Gender']\n",
        "  profile_path_ = os.path.join(profile_path, f'{profile_id}.png')\n",
        "  profile_image = Image.open(profile_path_)\n",
        "  print(f'ProfileID : {profile_id}, Age : {age}, Gender : {gender}')\n",
        "  profile_image.show()\n",
        "\n",
        "for idx, row in ear_labels.iterrows():\n",
        "  ear_id, age, gender = row['EarID'], row['Age'], row['Gender']\n",
        "  ear_path_ = os.path.join(ear_path, f'{ear_id}.png')\n",
        "  ear_image = Image.open(ear_path_)\n",
        "  print(f'Ear ID : {ear_id}, Age : {age}, Gender : {gender}')\n",
        "  ear_image.show()"
      ],
      "metadata": {
        "colab": {
          "base_uri": "https://localhost:8080/"
        },
        "id": "Xov3OzIHuO0V",
        "outputId": "f08b86d3-fc6c-45d8-d433-e28f48a2fa17"
      },
      "execution_count": 7,
      "outputs": [
        {
          "output_type": "stream",
          "name": "stdout",
          "text": [
            "ProfileID : 1, Age : 57, Gender : M\n",
            "ProfileID : 2, Age : 67, Gender : M\n",
            "ProfileID : 3, Age : 61, Gender : M\n",
            "ProfileID : 4, Age : 32, Gender : F\n",
            "ProfileID : 5, Age : 35, Gender : M\n",
            "ProfileID : 6, Age : 51, Gender : M\n",
            "ProfileID : 7, Age : 37, Gender : M\n",
            "ProfileID : 8, Age : 72, Gender : M\n",
            "ProfileID : 9, Age : 42, Gender : M\n",
            "ProfileID : 10, Age : 52, Gender : M\n",
            "ProfileID : 11, Age : 33, Gender : F\n",
            "ProfileID : 12, Age : 25, Gender : F\n",
            "ProfileID : 13, Age : 28, Gender : M\n",
            "ProfileID : 14, Age : 35, Gender : M\n",
            "ProfileID : 15, Age : 30, Gender : M\n",
            "ProfileID : 16, Age : 33, Gender : F\n",
            "ProfileID : 17, Age : 35, Gender : F\n",
            "ProfileID : 18, Age : 45, Gender : F\n",
            "ProfileID : 19, Age : 30, Gender : M\n",
            "ProfileID : 20, Age : 36, Gender : F\n",
            "ProfileID : 21, Age : 48, Gender : M\n",
            "ProfileID : 22, Age : 17, Gender : M\n",
            "ProfileID : 23, Age : 21, Gender : M\n",
            "ProfileID : 24, Age : 22, Gender : F\n",
            "ProfileID : 25, Age : 26, Gender : F\n",
            "ProfileID : 26, Age : 43, Gender : M\n",
            "ProfileID : 27, Age : 34, Gender : F\n",
            "ProfileID : 28, Age : 39, Gender : F\n",
            "ProfileID : 29, Age : 31, Gender : F\n",
            "ProfileID : 30, Age : 28, Gender : M\n",
            "ProfileID : 31, Age : 47, Gender : F\n",
            "ProfileID : 32, Age : 43, Gender : F\n",
            "ProfileID : 33, Age : 38, Gender : F\n",
            "ProfileID : 34, Age : 25, Gender : F\n",
            "ProfileID : 35, Age : 29, Gender : F\n",
            "ProfileID : 36, Age : 76, Gender : M\n",
            "ProfileID : 37, Age : 75, Gender : M\n",
            "ProfileID : 38, Age : 68, Gender : M\n",
            "ProfileID : 39, Age : 19, Gender : M\n",
            "ProfileID : 40, Age : 26, Gender : M\n",
            "ProfileID : 41, Age : 37, Gender : M\n",
            "ProfileID : 42, Age : 45, Gender : M\n",
            "ProfileID : 43, Age : 47, Gender : M\n",
            "ProfileID : 44, Age : 34, Gender : M\n",
            "ProfileID : 45, Age : 41, Gender : M\n",
            "ProfileID : 46, Age : 23, Gender : M\n",
            "ProfileID : 47, Age : 36, Gender : M\n",
            "ProfileID : 48, Age : 31, Gender : M\n",
            "ProfileID : 49, Age : 27, Gender : M\n",
            "ProfileID : 50, Age : 41, Gender : M\n",
            "ProfileID : 51, Age : 32, Gender : M\n",
            "ProfileID : 52, Age : 50, Gender : M\n",
            "ProfileID : 53, Age : 39, Gender : M\n",
            "ProfileID : 54, Age : 24, Gender : M\n",
            "ProfileID : 55, Age : 40, Gender : M\n",
            "ProfileID : 56, Age : 38, Gender : M\n",
            "ProfileID : 57, Age : 27, Gender : M\n",
            "ProfileID : 58, Age : 44, Gender : M\n",
            "ProfileID : 59, Age : 37, Gender : M\n",
            "ProfileID : 60, Age : 58, Gender : M\n",
            "Ear ID : 1, Age : 57, Gender : M\n",
            "Ear ID : 2, Age : 67, Gender : M\n",
            "Ear ID : 3, Age : 61, Gender : M\n",
            "Ear ID : 4, Age : 32, Gender : F\n",
            "Ear ID : 5, Age : 35, Gender : M\n",
            "Ear ID : 6, Age : 51, Gender : M\n",
            "Ear ID : 7, Age : 37, Gender : M\n",
            "Ear ID : 8, Age : 72, Gender : M\n",
            "Ear ID : 9, Age : 42, Gender : M\n",
            "Ear ID : 10, Age : 52, Gender : M\n",
            "Ear ID : 11, Age : 33, Gender : F\n",
            "Ear ID : 12, Age : 25, Gender : F\n",
            "Ear ID : 13, Age : 28, Gender : M\n",
            "Ear ID : 14, Age : 35, Gender : M\n",
            "Ear ID : 15, Age : 30, Gender : M\n",
            "Ear ID : 16, Age : 33, Gender : F\n",
            "Ear ID : 17, Age : 35, Gender : F\n",
            "Ear ID : 18, Age : 45, Gender : F\n",
            "Ear ID : 19, Age : 30, Gender : M\n",
            "Ear ID : 20, Age : 36, Gender : F\n",
            "Ear ID : 21, Age : 48, Gender : M\n",
            "Ear ID : 22, Age : 17, Gender : M\n",
            "Ear ID : 23, Age : 21, Gender : M\n",
            "Ear ID : 24, Age : 22, Gender : F\n",
            "Ear ID : 25, Age : 26, Gender : F\n",
            "Ear ID : 26, Age : 43, Gender : M\n",
            "Ear ID : 27, Age : 34, Gender : F\n",
            "Ear ID : 28, Age : 39, Gender : F\n",
            "Ear ID : 29, Age : 31, Gender : F\n",
            "Ear ID : 30, Age : 28, Gender : M\n",
            "Ear ID : 31, Age : 47, Gender : F\n",
            "Ear ID : 32, Age : 43, Gender : F\n",
            "Ear ID : 33, Age : 38, Gender : F\n",
            "Ear ID : 34, Age : 25, Gender : F\n",
            "Ear ID : 35, Age : 29, Gender : F\n",
            "Ear ID : 36, Age : 76, Gender : M\n",
            "Ear ID : 37, Age : 75, Gender : M\n",
            "Ear ID : 38, Age : 68, Gender : M\n",
            "Ear ID : 39, Age : 19, Gender : M\n",
            "Ear ID : 40, Age : 26, Gender : M\n",
            "Ear ID : 41, Age : 37, Gender : M\n",
            "Ear ID : 42, Age : 45, Gender : M\n",
            "Ear ID : 43, Age : 47, Gender : M\n",
            "Ear ID : 44, Age : 34, Gender : M\n",
            "Ear ID : 45, Age : 41, Gender : M\n",
            "Ear ID : 46, Age : 23, Gender : M\n",
            "Ear ID : 47, Age : 36, Gender : M\n",
            "Ear ID : 48, Age : 31, Gender : M\n",
            "Ear ID : 49, Age : 27, Gender : M\n",
            "Ear ID : 50, Age : 41, Gender : M\n",
            "Ear ID : 51, Age : 32, Gender : M\n",
            "Ear ID : 52, Age : 50, Gender : M\n",
            "Ear ID : 53, Age : 39, Gender : M\n",
            "Ear ID : 54, Age : 24, Gender : M\n",
            "Ear ID : 55, Age : 40, Gender : M\n",
            "Ear ID : 56, Age : 38, Gender : M\n",
            "Ear ID : 57, Age : 27, Gender : M\n",
            "Ear ID : 58, Age : 44, Gender : M\n",
            "Ear ID : 59, Age : 37, Gender : M\n",
            "Ear ID : 60, Age : 58, Gender : M\n"
          ]
        }
      ]
    },
    {
      "cell_type": "code",
      "source": [],
      "metadata": {
        "id": "xzzk0vGgvc_6"
      },
      "execution_count": null,
      "outputs": []
    }
  ]
}