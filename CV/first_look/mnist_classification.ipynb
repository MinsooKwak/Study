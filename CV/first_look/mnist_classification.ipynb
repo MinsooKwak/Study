{
  "nbformat": 4,
  "nbformat_minor": 0,
  "metadata": {
    "colab": {
      "provenance": [],
      "authorship_tag": "ABX9TyNV0ul/jaARiPkRjPmX1Ern",
      "include_colab_link": true
    },
    "kernelspec": {
      "name": "python3",
      "display_name": "Python 3"
    },
    "language_info": {
      "name": "python"
    }
  },
  "cells": [
    {
      "cell_type": "markdown",
      "metadata": {
        "id": "view-in-github",
        "colab_type": "text"
      },
      "source": [
        "<a href=\"https://colab.research.google.com/github/MinsooKwak/Study/blob/main/CV/first_look/mnist_classification.ipynb\" target=\"_parent\"><img src=\"https://colab.research.google.com/assets/colab-badge.svg\" alt=\"Open In Colab\"/></a>"
      ]
    },
    {
      "cell_type": "code",
      "execution_count": 104,
      "metadata": {
        "id": "QPys7iHyAHcf"
      },
      "outputs": [],
      "source": [
        "import tensorflow as tf\n",
        "from tensorflow import keras\n",
        "from keras.layers import Dense\n",
        "from keras.models import Sequential\n",
        "\n",
        "import pandas as pd\n",
        "import numpy as np\n",
        "import matplotlib.pyplot as plt\n",
        "import seaborn as sns\n",
        "from IPython.display import Image     # 이미지 출력\n",
        "%matplotlib inline\n",
        "\n",
        "import warnings\n",
        "warnings.filterwarnings('ignore')"
      ]
    },
    {
      "cell_type": "code",
      "source": [
        "SEED = 34"
      ],
      "metadata": {
        "id": "Ad075UynBVGf"
      },
      "execution_count": 105,
      "outputs": []
    },
    {
      "cell_type": "markdown",
      "source": [
        "## 0. 도입 전 기본 처리"
      ],
      "metadata": {
        "id": "-LD1K-3SBmr_"
      }
    },
    {
      "cell_type": "markdown",
      "source": [
        "- load data"
      ],
      "metadata": {
        "id": "8Oq4rE64CbsI"
      }
    },
    {
      "cell_type": "code",
      "source": [
        "mnist = keras.datasets.mnist\n",
        "((train_images, train_labels), (test_images, test_labels)) = mnist.load_data()"
      ],
      "metadata": {
        "id": "2K8J0-w7BXSo"
      },
      "execution_count": 106,
      "outputs": []
    },
    {
      "cell_type": "code",
      "source": [
        "print(f'train image shape : {train_images.shape}')\n",
        "print(f'test  image shape : {test_images.shape}')\n",
        "\n",
        "print(f'train label shape : {train_labels.shape}')\n",
        "print(f'test  labels shape : {test_labels.shape}')"
      ],
      "metadata": {
        "colab": {
          "base_uri": "https://localhost:8080/"
        },
        "id": "YU_3YrzfB2PK",
        "outputId": "044ab456-7b7c-4644-9ab3-8ddbbf77feb2"
      },
      "execution_count": 107,
      "outputs": [
        {
          "output_type": "stream",
          "name": "stdout",
          "text": [
            "train image shape : (60000, 28, 28)\n",
            "test  image shape : (10000, 28, 28)\n",
            "train label shape : (60000,)\n",
            "test  labels shape : (10000,)\n"
          ]
        }
      ]
    },
    {
      "cell_type": "markdown",
      "source": [
        "B , H, W"
      ],
      "metadata": {
        "id": "YwyBVzitC9Y0"
      }
    },
    {
      "cell_type": "markdown",
      "source": [
        "- 이미지 출력"
      ],
      "metadata": {
        "id": "wMv7-iYcDdBq"
      }
    },
    {
      "cell_type": "code",
      "source": [
        "plt.figure()\n",
        "plt.imshow(train_images[1])\n",
        "plt.colorbar()\n",
        "#plt.grid(True)\n",
        "plt.show()\n",
        "print(train_labels[1])"
      ],
      "metadata": {
        "colab": {
          "base_uri": "https://localhost:8080/",
          "height": 449
        },
        "id": "xql_U9_2CgoF",
        "outputId": "6490f9ba-c0c2-4fd9-9e2b-8254700ec0ac"
      },
      "execution_count": 108,
      "outputs": [
        {
          "output_type": "display_data",
          "data": {
            "text/plain": [
              "<Figure size 640x480 with 2 Axes>"
            ],
            "image/png": "[encoded data removed]"
          },
          "metadata": {}
        },
        {
          "output_type": "stream",
          "name": "stdout",
          "text": [
            "0\n"
          ]
        }
      ]
    },
    {
      "cell_type": "markdown",
      "source": [
        "- train_images에서 0 아닌 값 출력"
      ],
      "metadata": {
        "id": "6xiIJHaBEGT0"
      }
    },
    {
      "cell_type": "code",
      "source": [
        "train_images[0].shape"
      ],
      "metadata": {
        "colab": {
          "base_uri": "https://localhost:8080/"
        },
        "id": "U0a3bCyfEJlz",
        "outputId": "8917d235-c362-4504-aab0-8b318af39f1e"
      },
      "execution_count": 109,
      "outputs": [
        {
          "output_type": "execute_result",
          "data": {
            "text/plain": [
              "(28, 28)"
            ]
          },
          "metadata": {},
          "execution_count": 109
        }
      ]
    },
    {
      "cell_type": "code",
      "source": [
        "# print(train_images[0])  # 대괄호 2개"
      ],
      "metadata": {
        "id": "2WEtVH3SErAz"
      },
      "execution_count": 110,
      "outputs": []
    },
    {
      "cell_type": "code",
      "source": [
        "# train_images[0].reshape(-1) # 1차원으로 변경 (대괄호 1개)"
      ],
      "metadata": {
        "id": "9HRBbefoDxUU"
      },
      "execution_count": 111,
      "outputs": []
    },
    {
      "cell_type": "code",
      "source": [
        "filter(lambda x: x !=0, train_images[0].reshape(-1))  # 앞에 나온 것이 참이어야만 반환해줌 # 그대로 출력시 generator"
      ],
      "metadata": {
        "colab": {
          "base_uri": "https://localhost:8080/"
        },
        "id": "3GQYqfMkEh2O",
        "outputId": "61b8edb0-1fdc-4a4b-c29e-e4c52a2cbe37"
      },
      "execution_count": 112,
      "outputs": [
        {
          "output_type": "execute_result",
          "data": {
            "text/plain": [
              "<filter at 0x7f15ec2f53c0>"
            ]
          },
          "metadata": {},
          "execution_count": 112
        }
      ]
    },
    {
      "cell_type": "code",
      "source": [
        "sorted(list(filter(lambda x: x !=0, train_images[0].reshape(-1)))[:10])  # 0이 사라짐 # 앞에 10개만 예시로, 정렬"
      ],
      "metadata": {
        "colab": {
          "base_uri": "https://localhost:8080/"
        },
        "id": "wP1MJYp-FMif",
        "outputId": "f9c1152f-4a2b-4085-e11d-0d3ac4af11e5"
      },
      "execution_count": 113,
      "outputs": [
        {
          "output_type": "execute_result",
          "data": {
            "text/plain": [
              "[3, 18, 18, 18, 26, 126, 136, 166, 175, 255]"
            ]
          },
          "metadata": {},
          "execution_count": 113
        }
      ]
    },
    {
      "cell_type": "markdown",
      "source": [
        "- dtype\n",
        "  - u : 음수 없다\n",
        "  - int : 정수다\n",
        "  - 8 : 얼마나 큰 데이터를 다루나 (8bit, 꽤 작은값 다룸)"
      ],
      "metadata": {
        "id": "QafaX5uGGcUH"
      }
    },
    {
      "cell_type": "code",
      "source": [
        "print(train_images.dtype)\n",
        "print(train_labels.dtype)\n",
        "print(test_images.dtype)\n",
        "print(test_labels.dtype)"
      ],
      "metadata": {
        "colab": {
          "base_uri": "https://localhost:8080/"
        },
        "id": "N48nFX1RFlrA",
        "outputId": "4ec5508c-8120-4420-bef7-667ad0c72b85"
      },
      "execution_count": 114,
      "outputs": [
        {
          "output_type": "stream",
          "name": "stdout",
          "text": [
            "uint8\n",
            "uint8\n",
            "uint8\n",
            "uint8\n"
          ]
        }
      ]
    },
    {
      "cell_type": "markdown",
      "source": [
        "## 1. 전처리"
      ],
      "metadata": {
        "id": "L7Yin7dLHPiV"
      }
    },
    {
      "cell_type": "markdown",
      "source": [
        "실제 데이터를 모델에 맞게 정돈하거나 쓰레기 빼거나, 증폭시키거나 모델이 소화할 수 있는 방법으로 바꾸는 과정"
      ],
      "metadata": {
        "id": "Az_DGJxdHaM_"
      }
    },
    {
      "cell_type": "code",
      "source": [
        "print(list(filter(lambda x: x !=0, train_images[0].reshape(-1)))[:10])\n",
        "print(list(filter(lambda x: x !=0, train_labels.reshape(-1)))[:10])     # label은 1차원이니까 [0] 제거\n",
        "print(list(filter(lambda x: x !=0, test_images[0].reshape(-1)))[:10])\n",
        "print(list(filter(lambda x: x !=0, test_labels.reshape(-1)))[:10])"
      ],
      "metadata": {
        "colab": {
          "base_uri": "https://localhost:8080/"
        },
        "id": "1JwtWzS-GmEz",
        "outputId": "b737e951-0264-44a3-90b9-f7149c913407"
      },
      "execution_count": 115,
      "outputs": [
        {
          "output_type": "stream",
          "name": "stdout",
          "text": [
            "[3, 18, 18, 18, 126, 136, 175, 26, 166, 255]\n",
            "[5, 4, 1, 9, 2, 1, 3, 1, 4, 3]\n",
            "[84, 185, 159, 151, 60, 36, 222, 254, 254, 254]\n",
            "[7, 2, 1, 4, 1, 4, 9, 5, 9, 6]\n"
          ]
        }
      ]
    },
    {
      "cell_type": "markdown",
      "source": [
        "- 이미지의 max, min값 확인"
      ],
      "metadata": {
        "id": "sIN4HudFI1PX"
      }
    },
    {
      "cell_type": "code",
      "source": [
        "print(train_images.reshape((60000, 28*28)).shape)\n",
        "print(train_images.reshape((60000, 28, -1)).shape)  # 나머지 값 알고 있는 값으로 채워넣는 방안\n",
        "print(train_images.reshape((60000*28*28)).shape)    # 1차원 만드는 1방안\n",
        "train_images.reshape(-1).shape                      # 1차원 만드는 2방안"
      ],
      "metadata": {
        "colab": {
          "base_uri": "https://localhost:8080/"
        },
        "id": "6oo148w9ICd5",
        "outputId": "144fc1bb-a245-4ab9-a18e-fb7184c9c235"
      },
      "execution_count": 116,
      "outputs": [
        {
          "output_type": "stream",
          "name": "stdout",
          "text": [
            "(60000, 784)\n",
            "(60000, 28, 28)\n",
            "(47040000,)\n"
          ]
        },
        {
          "output_type": "execute_result",
          "data": {
            "text/plain": [
              "(47040000,)"
            ]
          },
          "metadata": {},
          "execution_count": 116
        }
      ]
    },
    {
      "cell_type": "code",
      "source": [
        "print(f'max : {max(train_images.reshape(-1))}, min : {min(train_images.reshape(-1))}')\n",
        "print(f'max : {max(test_images.reshape(-1))}, min : {min(test_images.reshape(-1))}')"
      ],
      "metadata": {
        "colab": {
          "base_uri": "https://localhost:8080/"
        },
        "id": "v2OA2eq2Jjbp",
        "outputId": "0b37e31d-6e87-44e0-f718-5a45f5a4ce70"
      },
      "execution_count": 117,
      "outputs": [
        {
          "output_type": "stream",
          "name": "stdout",
          "text": [
            "max : 255, min : 0\n",
            "max : 255, min : 0\n"
          ]
        }
      ]
    },
    {
      "cell_type": "code",
      "source": [
        "train_images = train_images.astype(np.float64)\n",
        "test_images = test_images.astype(np.float64)"
      ],
      "metadata": {
        "id": "d1u6Fq-mKShK"
      },
      "execution_count": 118,
      "outputs": []
    },
    {
      "cell_type": "markdown",
      "source": [
        "정규화 수행을 위해 unit8 type을 실수 형태로 변환 (0~1 사이로 normalize)"
      ],
      "metadata": {
        "id": "2pUy0w0FLbAQ"
      }
    },
    {
      "cell_type": "markdown",
      "source": [
        "- normalize\n",
        "  - normalize(x) = (x-최솟값) / (최댓값 - 최솟값)\n",
        "  - normalize(x) = x / 최댓값"
      ],
      "metadata": {
        "id": "IPqgd_LALske"
      }
    },
    {
      "cell_type": "code",
      "source": [
        "max((train_images / 255).reshape(-1))"
      ],
      "metadata": {
        "colab": {
          "base_uri": "https://localhost:8080/"
        },
        "id": "cFL_huYALaSH",
        "outputId": "f31065dd-37c1-4e73-dd5b-7898b7e016fb"
      },
      "execution_count": 119,
      "outputs": [
        {
          "output_type": "execute_result",
          "data": {
            "text/plain": [
              "1.0"
            ]
          },
          "metadata": {},
          "execution_count": 119
        }
      ]
    },
    {
      "cell_type": "code",
      "source": [
        "train_images = train_images / 255\n",
        "test_images = test_images / 255"
      ],
      "metadata": {
        "id": "BFKhtDRnMKue"
      },
      "execution_count": 120,
      "outputs": []
    },
    {
      "cell_type": "code",
      "source": [
        "# normalize 후 다시 확인\n",
        "print(list(filter(lambda x: x !=0, train_images[0].reshape(-1)))[:10])\n",
        "print(list(filter(lambda x: x !=0, train_labels.reshape(-1)))[:10])     # label은 1차원이니까 [0] 제거\n",
        "print(list(filter(lambda x: x !=0, test_images[0].reshape(-1)))[:10])\n",
        "print(list(filter(lambda x: x !=0, test_labels.reshape(-1)))[:10])"
      ],
      "metadata": {
        "colab": {
          "base_uri": "https://localhost:8080/"
        },
        "id": "FuxzYawXMaJG",
        "outputId": "603991ea-807a-49ef-a42f-102fa29b253c"
      },
      "execution_count": 121,
      "outputs": [
        {
          "output_type": "stream",
          "name": "stdout",
          "text": [
            "[0.011764705882352941, 0.07058823529411765, 0.07058823529411765, 0.07058823529411765, 0.49411764705882355, 0.5333333333333333, 0.6862745098039216, 0.10196078431372549, 0.6509803921568628, 1.0]\n",
            "[5, 4, 1, 9, 2, 1, 3, 1, 4, 3]\n",
            "[0.32941176470588235, 0.7254901960784313, 0.6235294117647059, 0.592156862745098, 0.23529411764705882, 0.1411764705882353, 0.8705882352941177, 0.996078431372549, 0.996078431372549, 0.996078431372549]\n",
            "[7, 2, 1, 4, 1, 4, 9, 5, 9, 6]\n"
          ]
        }
      ]
    },
    {
      "cell_type": "markdown",
      "source": [
        "## 시각화"
      ],
      "metadata": {
        "id": "jH6eTyADM6Ua"
      }
    },
    {
      "cell_type": "code",
      "source": [
        "train_images[:5].shape  # B , H, W"
      ],
      "metadata": {
        "colab": {
          "base_uri": "https://localhost:8080/"
        },
        "id": "qgvASl7rMrOe",
        "outputId": "2d8a649e-d106-4afa-ddd3-6ad69c0c15bb"
      },
      "execution_count": 122,
      "outputs": [
        {
          "output_type": "execute_result",
          "data": {
            "text/plain": [
              "(5, 28, 28)"
            ]
          },
          "metadata": {},
          "execution_count": 122
        }
      ]
    },
    {
      "cell_type": "markdown",
      "source": [
        "plt.imshow()는 이미지 한장이 들어온다고 가정\n",
        "\n",
        "획득한 Batch 이미지를 한 장의 이미지와 같이 만들어줄 수 있음\n",
        "\n",
        "  ```\n",
        "  # 방안1. reshape 쓰는 방식\n",
        "\n",
        "  # 방안2. hstack 사용하는 방식    # \"tensorflow에서 제공하는 방식은 아님\"\n",
        "  - hstack : 행의 개수가 일치해야\n",
        "  - vstack : 열의 개수가 일치해야\n",
        "\n",
        "  # 방안3. transpose 함수 사용하는 방식\n",
        "\n",
        "  ```"
      ],
      "metadata": {
        "id": "anZMvj3jOGn4"
      }
    },
    {
      "cell_type": "markdown",
      "source": [
        "- reshape 방식\n",
        "  - 뒤틀린 이미지"
      ],
      "metadata": {
        "id": "ZxQBlvHnSF2K"
      }
    },
    {
      "cell_type": "code",
      "source": [
        "plt.imshow(train_images[:5].reshape(28,-1))\n",
        "plt.show()"
      ],
      "metadata": {
        "colab": {
          "base_uri": "https://localhost:8080/",
          "height": 163
        },
        "id": "n9fOxFPbSHvG",
        "outputId": "11425791-1be4-44eb-d7f8-22fbb1306373"
      },
      "execution_count": 123,
      "outputs": [
        {
          "output_type": "display_data",
          "data": {
            "text/plain": [
              "<Figure size 640x480 with 1 Axes>"
            ],
            "image/png": "[encoded data removed]"
          },
          "metadata": {}
        }
      ]
    },
    {
      "cell_type": "markdown",
      "source": [
        "- hstack 방식\n",
        "  - 옆으로 붙이는 방식"
      ],
      "metadata": {
        "id": "9OUOHIrnQObk"
      }
    },
    {
      "cell_type": "code",
      "source": [
        "np.hstack(train_images[:5]).shape"
      ],
      "metadata": {
        "colab": {
          "base_uri": "https://localhost:8080/"
        },
        "id": "g7AkvX3ePRGT",
        "outputId": "2eb8ad9d-9cc0-4e62-c285-f1893dc60839"
      },
      "execution_count": 124,
      "outputs": [
        {
          "output_type": "execute_result",
          "data": {
            "text/plain": [
              "(28, 140)"
            ]
          },
          "metadata": {},
          "execution_count": 124
        }
      ]
    },
    {
      "cell_type": "code",
      "source": [
        "plt.imshow(np.hstack(train_images[:5]))\n",
        "plt.show()"
      ],
      "metadata": {
        "colab": {
          "base_uri": "https://localhost:8080/",
          "height": 163
        },
        "id": "uycnPgNFNmPw",
        "outputId": "62de5ce3-e13e-4449-c0a4-9d11f92c690c"
      },
      "execution_count": 125,
      "outputs": [
        {
          "output_type": "display_data",
          "data": {
            "text/plain": [
              "<Figure size 640x480 with 1 Axes>"
            ],
            "image/png": "[encoded data removed]"
          },
          "metadata": {}
        }
      ]
    },
    {
      "cell_type": "markdown",
      "source": [
        "- transpose 방식\n",
        "  - 축을 유지하면서 순서를 뒤섞는 방식\n",
        "  - tensor 출력\n",
        "  ```\n",
        "  # transpose 안에 축 정보 줄 수 있음\n",
        "  train_images[:5].transpose(축 정보)\n",
        "  ```"
      ],
      "metadata": {
        "id": "NoskoqF0QQb_"
      }
    },
    {
      "cell_type": "code",
      "source": [
        "train_images[:5].transpose(1, 0, 2).reshape(28, -1).shape  # B(0), H(1), W(2) -> H(1), B(0), W(2)"
      ],
      "metadata": {
        "colab": {
          "base_uri": "https://localhost:8080/"
        },
        "id": "qw7Ozj0TQI8T",
        "outputId": "9b668b04-d018-4804-ea0e-26ab6f972cb9"
      },
      "execution_count": 126,
      "outputs": [
        {
          "output_type": "execute_result",
          "data": {
            "text/plain": [
              "(28, 140)"
            ]
          },
          "metadata": {},
          "execution_count": 126
        }
      ]
    },
    {
      "cell_type": "code",
      "source": [
        "plt.imshow(train_images[:10].transpose((1, 0, 2)).reshape(28, -1))\n",
        "plt.show()\n",
        "print(train_labels[:10])"
      ],
      "metadata": {
        "colab": {
          "base_uri": "https://localhost:8080/",
          "height": 133
        },
        "id": "i0buXdL7Rl2t",
        "outputId": "1dd8ce5a-d6c3-4555-9a30-2523e39dc0df"
      },
      "execution_count": 127,
      "outputs": [
        {
          "output_type": "display_data",
          "data": {
            "text/plain": [
              "<Figure size 640x480 with 1 Axes>"
            ],
            "image/png": "[encoded data removed]"
          },
          "metadata": {}
        },
        {
          "output_type": "stream",
          "name": "stdout",
          "text": [
            "[5 0 4 1 9 2 1 3 1 4]\n"
          ]
        }
      ]
    },
    {
      "cell_type": "markdown",
      "source": [
        "- 흑백으로 출력"
      ],
      "metadata": {
        "id": "511BWVF1Tbs-"
      }
    },
    {
      "cell_type": "code",
      "source": [
        "plt.imshow(train_images[:5].transpose((1, 0, 2)).reshape(28, -1), cmap='gray')\n",
        "plt.show()\n",
        "print(train_labels[:5])"
      ],
      "metadata": {
        "colab": {
          "base_uri": "https://localhost:8080/",
          "height": 182
        },
        "id": "OCVksuUQSx-7",
        "outputId": "bc067be9-70a1-44be-f65f-68955ccad32a"
      },
      "execution_count": 128,
      "outputs": [
        {
          "output_type": "display_data",
          "data": {
            "text/plain": [
              "<Figure size 640x480 with 1 Axes>"
            ],
            "image/png": "[encoded data removed]"
          },
          "metadata": {}
        },
        {
          "output_type": "stream",
          "name": "stdout",
          "text": [
            "[5 0 4 1 9]\n"
          ]
        }
      ]
    },
    {
      "cell_type": "markdown",
      "source": [
        "## Data Augmentation - Noise 추가"
      ],
      "metadata": {
        "id": "PkqL0Z8DTtzL"
      }
    },
    {
      "cell_type": "markdown",
      "source": [
        "### 1) random.random()"
      ],
      "metadata": {
        "id": "y19Y62ooVqA-"
      }
    },
    {
      "cell_type": "code",
      "source": [
        "# np.random.random (0~1 사이의 랜덤값을 uniform random으로 출력 (확률이 같음))\n",
        "print(np.random.random())\n",
        "print(np.random.random())\n",
        "print(np.random.random())"
      ],
      "metadata": {
        "colab": {
          "base_uri": "https://localhost:8080/"
        },
        "id": "QYVxiwXZTfWC",
        "outputId": "f6e60742-7f77-4510-aee9-0f2e48a15e0a"
      },
      "execution_count": 129,
      "outputs": [
        {
          "output_type": "stream",
          "name": "stdout",
          "text": [
            "0.5161780981329771\n",
            "0.9920028099300965\n",
            "0.5921542960159869\n"
          ]
        }
      ]
    },
    {
      "cell_type": "code",
      "source": [
        "# np.random.random() 안에 size 파라미터 있음\n",
        "print(np.random.random(5))\n",
        "print(np.random.random((28,28)).shape)"
      ],
      "metadata": {
        "colab": {
          "base_uri": "https://localhost:8080/"
        },
        "id": "0mcCQCS0UhN9",
        "outputId": "dc9b265e-86f8-440a-b544-2fa94c772792"
      },
      "execution_count": 130,
      "outputs": [
        {
          "output_type": "stream",
          "name": "stdout",
          "text": [
            "[0.37050215 0.22960808 0.95479027 0.96800975 0.03014938]\n",
            "(28, 28)\n"
          ]
        }
      ]
    },
    {
      "cell_type": "code",
      "source": [
        "plt.imshow(np.random.random((28,28)), cmap='gray')\n",
        "plt.colorbar()\n",
        "plt.show()"
      ],
      "metadata": {
        "colab": {
          "base_uri": "https://localhost:8080/",
          "height": 430
        },
        "id": "FNWKlCyTUtGa",
        "outputId": "cbd4941a-1cbe-4a8d-fedb-295995bfd6d4"
      },
      "execution_count": 131,
      "outputs": [
        {
          "output_type": "display_data",
          "data": {
            "text/plain": [
              "<Figure size 640x480 with 2 Axes>"
            ],
            "image/png": "[encoded data removed]"
          },
          "metadata": {}
        }
      ]
    },
    {
      "cell_type": "markdown",
      "source": [
        "### 2) 가우시안 noise"
      ],
      "metadata": {
        "id": "SnJCYYbEVtbq"
      }
    },
    {
      "cell_type": "markdown",
      "source": [
        "- 평균값 기준으로 가장 높은 확률값\n",
        "- 편차만큼 꼬리 길어지는 형태"
      ],
      "metadata": {
        "id": "Zt4pBBh2V2Ad"
      }
    },
    {
      "cell_type": "code",
      "source": [
        "# mu 0\n",
        "# std 0.1\n",
        "# size1   -> 평균 0 이어서 0과 가까운 값들이 나옴\n",
        "print(np.random.normal(0.0, 0.1, 1))\n",
        "print(np.random.normal(0.0, 0.1, 1))\n",
        "print(np.random.normal(0.0, 0.1, 1))"
      ],
      "metadata": {
        "colab": {
          "base_uri": "https://localhost:8080/"
        },
        "id": "ryuLxtOTVJwC",
        "outputId": "299fef83-57b2-48c1-e2d2-2aea9fd17555"
      },
      "execution_count": 132,
      "outputs": [
        {
          "output_type": "stream",
          "name": "stdout",
          "text": [
            "[-0.15717924]\n",
            "[0.21592997]\n",
            "[-0.04811662]\n"
          ]
        }
      ]
    },
    {
      "cell_type": "code",
      "source": [
        "# 평균이 3.0, 표준편차 0.01 경우 3회 출력\n",
        "print(np.random.normal(3.0, 0.01, 1))\n",
        "print(np.random.normal(3.0, 0.01, 1))\n",
        "print(np.random.normal(3.0, 0.01, 1))"
      ],
      "metadata": {
        "colab": {
          "base_uri": "https://localhost:8080/"
        },
        "id": "ZXkOHFM3WkDL",
        "outputId": "d9717d34-3731-4ae8-bbbc-3922fab97874"
      },
      "execution_count": 133,
      "outputs": [
        {
          "output_type": "stream",
          "name": "stdout",
          "text": [
            "[2.9776954]\n",
            "[2.99723344]\n",
            "[2.99319919]\n"
          ]
        }
      ]
    },
    {
      "cell_type": "code",
      "source": [
        "# size를 (28,28)로 출력\n",
        "print(np.random.normal(3.0, 0.01, (28,28)).shape)"
      ],
      "metadata": {
        "colab": {
          "base_uri": "https://localhost:8080/"
        },
        "id": "uavpQjFSW_Wf",
        "outputId": "2ff00ff0-c3d2-41e3-f8df-9b31faba122c"
      },
      "execution_count": 134,
      "outputs": [
        {
          "output_type": "stream",
          "name": "stdout",
          "text": [
            "(28, 28)\n"
          ]
        }
      ]
    },
    {
      "cell_type": "code",
      "source": [
        "plt.imshow(np.random.normal(0.0, 0.01, (28,28)), cmap='gray')\n",
        "plt.colorbar()\n",
        "plt.show()"
      ],
      "metadata": {
        "colab": {
          "base_uri": "https://localhost:8080/",
          "height": 430
        },
        "id": "mWx8Ns7_XUdF",
        "outputId": "c603b1b9-43fd-486f-f397-19d4b5ad1af9"
      },
      "execution_count": 135,
      "outputs": [
        {
          "output_type": "display_data",
          "data": {
            "text/plain": [
              "<Figure size 640x480 with 2 Axes>"
            ],
            "image/png": "[encoded data removed]"
          },
          "metadata": {}
        }
      ]
    },
    {
      "cell_type": "markdown",
      "source": [
        "### train image에 가우시안 노이즈 합치기"
      ],
      "metadata": {
        "id": "VXrE-Lv8XrRh"
      }
    },
    {
      "cell_type": "markdown",
      "source": [
        "- 5번째 이미지에 가우시안 노이즈 (28,28) 생성 후 합치기"
      ],
      "metadata": {
        "id": "bnGQyXQeXyZS"
      }
    },
    {
      "cell_type": "code",
      "source": [
        "# mu=0.5, std=0.1\n",
        "noisy_image = train_images[5] + np.random.normal(0.5, 0.1, (28,28))"
      ],
      "metadata": {
        "id": "01rJtM4vXdz0"
      },
      "execution_count": 136,
      "outputs": []
    },
    {
      "cell_type": "code",
      "source": [
        "plt.imshow(noisy_image, cmap='gray')\n",
        "plt.colorbar()\n",
        "plt.show()"
      ],
      "metadata": {
        "colab": {
          "base_uri": "https://localhost:8080/",
          "height": 430
        },
        "id": "8RE1MicrYKBo",
        "outputId": "bb66d2a8-df7c-4e56-8ecf-c909e2895537"
      },
      "execution_count": 137,
      "outputs": [
        {
          "output_type": "display_data",
          "data": {
            "text/plain": [
              "<Figure size 640x480 with 2 Axes>"
            ],
            "image/png": "[encoded data removed]"
          },
          "metadata": {}
        }
      ]
    },
    {
      "cell_type": "markdown",
      "source": [
        "생성된 이미지가 1을 초과하므로 max를 1로 조정"
      ],
      "metadata": {
        "id": "996MBHb8Ym43"
      }
    },
    {
      "cell_type": "code",
      "source": [
        "noisy_image[noisy_image >1.0] = 1.0\n",
        "plt.imshow(noisy_image, cmap='gray')\n",
        "plt.colorbar()\n",
        "plt.show()"
      ],
      "metadata": {
        "colab": {
          "base_uri": "https://localhost:8080/",
          "height": 435
        },
        "id": "v-2cWv55YNVT",
        "outputId": "3857d774-deae-45ea-912e-cc3b60241e0b"
      },
      "execution_count": 138,
      "outputs": [
        {
          "output_type": "display_data",
          "data": {
            "text/plain": [
              "<Figure size 640x480 with 2 Axes>"
            ],
            "image/png": "[encoded data removed]"
          },
          "metadata": {}
        }
      ]
    },
    {
      "cell_type": "markdown",
      "source": [
        "- 실제 데이터에 적용"
      ],
      "metadata": {
        "id": "vfwR_1VCZE1x"
      }
    },
    {
      "cell_type": "code",
      "source": [
        "train_images.shape"
      ],
      "metadata": {
        "colab": {
          "base_uri": "https://localhost:8080/"
        },
        "id": "4xNjM-93Y7Y4",
        "outputId": "2f581a73-c99a-458a-da3b-3f62a8744e1d"
      },
      "execution_count": 139,
      "outputs": [
        {
          "output_type": "execute_result",
          "data": {
            "text/plain": [
              "(60000, 28, 28)"
            ]
          },
          "metadata": {},
          "execution_count": 139
        }
      ]
    },
    {
      "cell_type": "code",
      "source": [
        "train_noisy_images = train_images + np.random.normal(0.5, 0.1, train_images.shape)\n",
        "train_noisy_images[train_noisy_images >1.0] = 1.0\n",
        "\n",
        "test_noisy_images = test_images + np.random.normal(0.5, 0.1, test_images.shape)\n",
        "test_noisy_images[test_noisy_images >1.0] = 1.0"
      ],
      "metadata": {
        "id": "wrXwPRe-ZMVF"
      },
      "execution_count": 140,
      "outputs": []
    },
    {
      "cell_type": "code",
      "source": [
        "plt.imshow(train_noisy_images[:5].transpose(1,0,2).reshape(28,-1), cmap='gray')\n",
        "plt.colorbar()\n",
        "plt.show()"
      ],
      "metadata": {
        "colab": {
          "base_uri": "https://localhost:8080/",
          "height": 412
        },
        "id": "zV9AZaWdaJo1",
        "outputId": "99597479-65b7-4f30-9bc0-57aa19742f0c"
      },
      "execution_count": 141,
      "outputs": [
        {
          "output_type": "display_data",
          "data": {
            "text/plain": [
              "<Figure size 640x480 with 2 Axes>"
            ],
            "image/png": "[encoded data removed]"
          },
          "metadata": {}
        }
      ]
    },
    {
      "cell_type": "markdown",
      "source": [
        "## label에 onehot encoding 적용 : 배치 사이즈, 클래스 개수의 shape으로 변경"
      ],
      "metadata": {
        "id": "bQ09sKJMampX"
      }
    },
    {
      "cell_type": "code",
      "source": [
        "train_labels[:5]"
      ],
      "metadata": {
        "colab": {
          "base_uri": "https://localhost:8080/"
        },
        "id": "N1__hVnwaa2r",
        "outputId": "8684d98b-fc38-4209-ee11-119204bf6daa"
      },
      "execution_count": 142,
      "outputs": [
        {
          "output_type": "execute_result",
          "data": {
            "text/plain": [
              "array([5, 0, 4, 1, 9], dtype=uint8)"
            ]
          },
          "metadata": {},
          "execution_count": 142
        }
      ]
    },
    {
      "cell_type": "markdown",
      "source": [
        "딥러닝 입장에서 컬럼 번호를 맞추는게 더 쉬움\n",
        "\n",
        "값이 있는 위치를 1로 켜주는 방식"
      ],
      "metadata": {
        "id": "gFFds2A5a70d"
      }
    },
    {
      "cell_type": "code",
      "source": [
        "from keras.utils import to_categorical"
      ],
      "metadata": {
        "id": "4eHZ2CE-awGC"
      },
      "execution_count": 143,
      "outputs": []
    },
    {
      "cell_type": "code",
      "source": [
        "print(train_labels[0])\n",
        "print(to_categorical(train_labels[0]))"
      ],
      "metadata": {
        "colab": {
          "base_uri": "https://localhost:8080/"
        },
        "id": "DS6oiOXxbcuG",
        "outputId": "40e05b22-1305-4f4a-b5a8-6bdb50273ffb"
      },
      "execution_count": 144,
      "outputs": [
        {
          "output_type": "stream",
          "name": "stdout",
          "text": [
            "5\n",
            "[0. 0. 0. 0. 0. 1.]\n"
          ]
        }
      ]
    },
    {
      "cell_type": "markdown",
      "source": [
        "텐서 길이가 유동적이게 되므로 길이를 정해줄 수 있음"
      ],
      "metadata": {
        "id": "Qz7BSe3CbvmN"
      }
    },
    {
      "cell_type": "code",
      "source": [
        "print(to_categorical(train_labels[0], 10))"
      ],
      "metadata": {
        "colab": {
          "base_uri": "https://localhost:8080/"
        },
        "id": "Jb7h6z1_bmah",
        "outputId": "d2314893-0ccd-4b52-b3ea-8ddbc0bd8431"
      },
      "execution_count": 145,
      "outputs": [
        {
          "output_type": "stream",
          "name": "stdout",
          "text": [
            "[0. 0. 0. 0. 0. 1. 0. 0. 0. 0.]\n"
          ]
        }
      ]
    },
    {
      "cell_type": "code",
      "source": [
        "print(f'train label shape : {train_labels.shape}, test label shape : {test_labels.shape}')\n",
        "\n",
        "train_labels = to_categorical(train_labels, 10)\n",
        "test_labels = to_categorical(test_labels, 10)\n",
        "\n",
        "print(f'train label shape : {train_labels.shape}, test label shape : {test_labels.shape}')"
      ],
      "metadata": {
        "colab": {
          "base_uri": "https://localhost:8080/"
        },
        "id": "8FG1BZKccA2M",
        "outputId": "aea7e6da-c2ab-4c85-b530-89eb21ab3b04"
      },
      "execution_count": 146,
      "outputs": [
        {
          "output_type": "stream",
          "name": "stdout",
          "text": [
            "train label shape : (60000,), test label shape : (10000,)\n",
            "train label shape : (60000, 10), test label shape : (10000, 10)\n"
          ]
        }
      ]
    },
    {
      "cell_type": "markdown",
      "source": [
        "## 모델링"
      ],
      "metadata": {
        "id": "khMug5Zgcntm"
      }
    },
    {
      "cell_type": "code",
      "source": [
        "from keras.layers import SimpleRNN\n",
        "from keras.layers import Dense, Input\n",
        "from keras.models import Model"
      ],
      "metadata": {
        "id": "xApT_YhAciJv"
      },
      "execution_count": 147,
      "outputs": []
    },
    {
      "cell_type": "code",
      "source": [
        "inputs = Input(shape =(28,28))\n",
        "x1 = SimpleRNN(64, activation=\"tanh\")(inputs)\n",
        "x2 = Dense(10, activation=\"softmax\")(x1)\n",
        "model = Model(inputs, x2)"
      ],
      "metadata": {
        "id": "24EwSDQldazF"
      },
      "execution_count": 148,
      "outputs": []
    },
    {
      "cell_type": "markdown",
      "source": [
        "- 모델 요약 정보 출력"
      ],
      "metadata": {
        "id": "PPUUXnsWec-7"
      }
    },
    {
      "cell_type": "code",
      "source": [
        "model.summary()"
      ],
      "metadata": {
        "colab": {
          "base_uri": "https://localhost:8080/"
        },
        "id": "Y6oJkZzJeblB",
        "outputId": "689eb734-5b2b-4b65-97b1-9e1ed606d6ec"
      },
      "execution_count": 149,
      "outputs": [
        {
          "output_type": "stream",
          "name": "stdout",
          "text": [
            "Model: \"model_2\"\n",
            "_________________________________________________________________\n",
            " Layer (type)                Output Shape              Param #   \n",
            "=================================================================\n",
            " input_3 (InputLayer)        [(None, 28, 28)]          0         \n",
            "                                                                 \n",
            " simple_rnn_2 (SimpleRNN)    (None, 64)                5952      \n",
            "                                                                 \n",
            " dense_2 (Dense)             (None, 10)                650       \n",
            "                                                                 \n",
            "=================================================================\n",
            "Total params: 6602 (25.79 KB)\n",
            "Trainable params: 6602 (25.79 KB)\n",
            "Non-trainable params: 0 (0.00 Byte)\n",
            "_________________________________________________________________\n"
          ]
        }
      ]
    },
    {
      "cell_type": "markdown",
      "source": [
        "- 모델에 loss, optimizer, metric 설정"
      ],
      "metadata": {
        "id": "61H7aB3ofJd2"
      }
    },
    {
      "cell_type": "code",
      "source": [
        "model.compile(loss=\"categorical_crossentropy\",\n",
        "              optimizer = \"adam\",\n",
        "              metrics = ['accuracy'])"
      ],
      "metadata": {
        "id": "aj0MPxshegnk"
      },
      "execution_count": 150,
      "outputs": []
    },
    {
      "cell_type": "code",
      "source": [
        "hist = model.fit(train_noisy_images, train_labels,\n",
        "          validation_data = (test_noisy_images, test_labels),\n",
        "          epochs=5, verbose=2)  # verbose=2 (학습하는 과정 출력)"
      ],
      "metadata": {
        "colab": {
          "base_uri": "https://localhost:8080/"
        },
        "id": "mwwqsAB7fwOS",
        "outputId": "373aeb4e-91ee-47fb-ea49-0ed92f318d94"
      },
      "execution_count": 151,
      "outputs": [
        {
          "output_type": "stream",
          "name": "stdout",
          "text": [
            "Epoch 1/5\n",
            "1875/1875 - 16s - loss: 0.6900 - accuracy: 0.7777 - val_loss: 0.4113 - val_accuracy: 0.8752 - 16s/epoch - 9ms/step\n",
            "Epoch 2/5\n",
            "1875/1875 - 13s - loss: 0.3670 - accuracy: 0.8887 - val_loss: 0.3264 - val_accuracy: 0.9013 - 13s/epoch - 7ms/step\n",
            "Epoch 3/5\n",
            "1875/1875 - 12s - loss: 0.3036 - accuracy: 0.9090 - val_loss: 0.3030 - val_accuracy: 0.9105 - 12s/epoch - 7ms/step\n",
            "Epoch 4/5\n",
            "1875/1875 - 12s - loss: 0.2745 - accuracy: 0.9182 - val_loss: 0.2622 - val_accuracy: 0.9230 - 12s/epoch - 6ms/step\n",
            "Epoch 5/5\n",
            "1875/1875 - 12s - loss: 0.2558 - accuracy: 0.9240 - val_loss: 0.2146 - val_accuracy: 0.9344 - 12s/epoch - 7ms/step\n"
          ]
        }
      ]
    },
    {
      "cell_type": "code",
      "source": [
        "hist.epoch"
      ],
      "metadata": {
        "colab": {
          "base_uri": "https://localhost:8080/"
        },
        "id": "9gRK1INXgTsQ",
        "outputId": "e498994f-bebc-448e-d848-668e9cd5f261"
      },
      "execution_count": 152,
      "outputs": [
        {
          "output_type": "execute_result",
          "data": {
            "text/plain": [
              "[0, 1, 2, 3, 4]"
            ]
          },
          "metadata": {},
          "execution_count": 152
        }
      ]
    },
    {
      "cell_type": "code",
      "source": [
        "hist.history"
      ],
      "metadata": {
        "colab": {
          "base_uri": "https://localhost:8080/"
        },
        "id": "syEsMqxWg5VM",
        "outputId": "01025b63-5c36-42d0-b001-b64e00f9442b"
      },
      "execution_count": 153,
      "outputs": [
        {
          "output_type": "execute_result",
          "data": {
            "text/plain": [
              "{'loss': [0.68999844789505,\n",
              "  0.36698290705680847,\n",
              "  0.3035872280597687,\n",
              "  0.27446335554122925,\n",
              "  0.25578030943870544],\n",
              " 'accuracy': [0.7777166962623596,\n",
              "  0.8887166380882263,\n",
              "  0.9090499877929688,\n",
              "  0.9181666374206543,\n",
              "  0.9239833354949951],\n",
              " 'val_loss': [0.41126590967178345,\n",
              "  0.3264053165912628,\n",
              "  0.3029627501964569,\n",
              "  0.2621985375881195,\n",
              "  0.21463413536548615],\n",
              " 'val_accuracy': [0.8751999735832214,\n",
              "  0.9013000130653381,\n",
              "  0.9104999899864197,\n",
              "  0.9229999780654907,\n",
              "  0.9344000220298767]}"
            ]
          },
          "metadata": {},
          "execution_count": 153
        }
      ]
    },
    {
      "cell_type": "code",
      "source": [
        "plt.plot(hist.history['accuracy'], label='accuracy')\n",
        "plt.plot(hist.history['loss'], label='loss')\n",
        "plt.plot(hist.history['val_accuracy'], label='val_accuracy')\n",
        "plt.plot(hist.history['val_loss'], label='val_loss')\n",
        "plt.legend(loc='upper right', bbox_to_anchor=(1.305,1.0))\n",
        "plt.show()"
      ],
      "metadata": {
        "colab": {
          "base_uri": "https://localhost:8080/",
          "height": 430
        },
        "id": "KFOtjTtog7rV",
        "outputId": "770858ae-6a8b-4f1a-9a6a-39b6444312ca"
      },
      "execution_count": 154,
      "outputs": [
        {
          "output_type": "display_data",
          "data": {
            "text/plain": [
              "<Figure size 640x480 with 1 Axes>"
            ],
            "image/png": "[encoded data removed]"
          },
          "metadata": {}
        }
      ]
    },
    {
      "cell_type": "markdown",
      "source": [
        "## 결과 확인"
      ],
      "metadata": {
        "id": "FJeOjNwwicG0"
      }
    },
    {
      "cell_type": "code",
      "source": [
        "test_noisy_images[0].shape"
      ],
      "metadata": {
        "colab": {
          "base_uri": "https://localhost:8080/"
        },
        "id": "0u5FK2Quhar3",
        "outputId": "a8ccee77-b606-4a61-8935-d717d9135df7"
      },
      "execution_count": 155,
      "outputs": [
        {
          "output_type": "execute_result",
          "data": {
            "text/plain": [
              "(28, 28)"
            ]
          },
          "metadata": {},
          "execution_count": 155
        }
      ]
    },
    {
      "cell_type": "markdown",
      "source": [
        "predict shape 맞추기 위해 앞에 Batch 추가해야"
      ],
      "metadata": {
        "id": "7-t5EccajINo"
      }
    },
    {
      "cell_type": "markdown",
      "source": [
        "- 방법1"
      ],
      "metadata": {
        "id": "6ujw-dNcjOTC"
      }
    },
    {
      "cell_type": "code",
      "source": [
        "#test_noisy_images[0].reshape((1, 28, 28))\n",
        "#model.predict(test_noisy_images[0].reshape((1, 28, 28)))"
      ],
      "metadata": {
        "id": "JCStVpDRioLh"
      },
      "execution_count": 156,
      "outputs": []
    },
    {
      "cell_type": "markdown",
      "source": [
        "- 방법2\n",
        "  - gpu 비용 많이 듦\n",
        "  - 한꺼번에 빨리 처리하기 위해"
      ],
      "metadata": {
        "id": "paAsiBTgjP0T"
      }
    },
    {
      "cell_type": "code",
      "source": [
        "# model.predict(np.array([test_noisy_images[0])])   # (28,28)을 한겹 쌓는 것을 np.array로 -> (1,28,28)"
      ],
      "metadata": {
        "id": "ssL0g5n6jRsj"
      },
      "execution_count": 157,
      "outputs": []
    },
    {
      "cell_type": "markdown",
      "source": [
        "test_noisy_images 1장 넣고 결과 반환"
      ],
      "metadata": {
        "id": "zePVBEC8kN_f"
      }
    },
    {
      "cell_type": "code",
      "source": [
        "res = model.predict(test_noisy_images[:1])\n",
        "res.shape"
      ],
      "metadata": {
        "colab": {
          "base_uri": "https://localhost:8080/"
        },
        "id": "UbomMb9XkT5o",
        "outputId": "a05dc9e3-f0bb-4b8a-8276-802b2c23fe24"
      },
      "execution_count": 158,
      "outputs": [
        {
          "output_type": "stream",
          "name": "stdout",
          "text": [
            "1/1 [==============================] - 0s 155ms/step\n"
          ]
        },
        {
          "output_type": "execute_result",
          "data": {
            "text/plain": [
              "(1, 10)"
            ]
          },
          "metadata": {},
          "execution_count": 158
        }
      ]
    },
    {
      "cell_type": "markdown",
      "source": [
        "### test_noisy_images[0], test_images[0]을 결합해 plt 출력"
      ],
      "metadata": {
        "id": "3PuL-Jlrkk3b"
      }
    },
    {
      "cell_type": "code",
      "source": [
        "print(np.concatenate([test_noisy_images[0], test_images[0]], axis=1).shape)  # width 방향으로 결합\n",
        "plt.imshow(np.concatenate([test_noisy_images[0], test_images[0]], axis=1), cmap='gray')\n",
        "plt.show()"
      ],
      "metadata": {
        "colab": {
          "base_uri": "https://localhost:8080/",
          "height": 328
        },
        "id": "aToeSbM0kbAe",
        "outputId": "e89f5633-0006-41b6-d112-86b4f5cbe293"
      },
      "execution_count": 159,
      "outputs": [
        {
          "output_type": "stream",
          "name": "stdout",
          "text": [
            "(28, 56)\n"
          ]
        },
        {
          "output_type": "display_data",
          "data": {
            "text/plain": [
              "<Figure size 640x480 with 1 Axes>"
            ],
            "image/png": "[encoded data removed]"
          },
          "metadata": {}
        }
      ]
    },
    {
      "cell_type": "code",
      "source": [
        "res"
      ],
      "metadata": {
        "colab": {
          "base_uri": "https://localhost:8080/"
        },
        "id": "Db3APY11lmOt",
        "outputId": "e9a6c2a8-f080-45c0-8c2d-b4f54d818b15"
      },
      "execution_count": 160,
      "outputs": [
        {
          "output_type": "execute_result",
          "data": {
            "text/plain": [
              "array([[7.7029035e-06, 2.4645237e-04, 2.7052479e-04, 7.7756710e-04,\n",
              "        1.9027726e-05, 2.0242020e-04, 1.3603515e-06, 9.9785101e-01,\n",
              "        1.3293478e-05, 6.1058573e-04]], dtype=float32)"
            ]
          },
          "metadata": {},
          "execution_count": 160
        }
      ]
    },
    {
      "cell_type": "code",
      "source": [
        "res[0].argmax() # 가장 큰 값 index 출력"
      ],
      "metadata": {
        "colab": {
          "base_uri": "https://localhost:8080/"
        },
        "id": "f7_o7EHvk9lM",
        "outputId": "3a92c782-1dea-4fae-acf9-6bd418e24b8b"
      },
      "execution_count": 161,
      "outputs": [
        {
          "output_type": "execute_result",
          "data": {
            "text/plain": [
              "7"
            ]
          },
          "metadata": {},
          "execution_count": 161
        }
      ]
    },
    {
      "cell_type": "code",
      "source": [
        "# res, test_labels[0]의 결과를 plt.bar로 확인\n",
        "plt.bar(range(10), res[0], color='red')             # 모델 예측\n",
        "plt.bar(np.array(range(10))+0.35, test_labels[0])   # 실제 label 정보 (실제 예측)\n",
        "plt.show()"
      ],
      "metadata": {
        "colab": {
          "base_uri": "https://localhost:8080/",
          "height": 430
        },
        "id": "Sy2WcltKlcxX",
        "outputId": "1fa7c379-aa25-402e-80f6-7f633b35f77c"
      },
      "execution_count": 162,
      "outputs": [
        {
          "output_type": "display_data",
          "data": {
            "text/plain": [
              "<Figure size 640x480 with 1 Axes>"
            ],
            "image/png": "[encoded data removed]"
          },
          "metadata": {}
        }
      ]
    },
    {
      "cell_type": "code",
      "source": [
        "# 다른 예시도 확인\n",
        "res2 = model.predict(test_noisy_images[3:4])\n",
        "print(res2.shape)\n",
        "\n",
        "plt.bar(range(10), res2[0], color='red')             # 모델 예측\n",
        "plt.bar(np.array(range(10))+0.35, test_labels[3])   # 실제 label 정보 (실제 예측)\n",
        "plt.show()"
      ],
      "metadata": {
        "colab": {
          "base_uri": "https://localhost:8080/",
          "height": 467
        },
        "id": "0dp1XNSel7Pn",
        "outputId": "b4fdff56-8746-4da0-e3aa-de8c7c555762"
      },
      "execution_count": 163,
      "outputs": [
        {
          "output_type": "stream",
          "name": "stdout",
          "text": [
            "1/1 [==============================] - 0s 24ms/step\n",
            "(1, 10)\n"
          ]
        },
        {
          "output_type": "display_data",
          "data": {
            "text/plain": [
              "<Figure size 640x480 with 1 Axes>"
            ],
            "image/png": "[encoded data removed]"
          },
          "metadata": {}
        }
      ]
    },
    {
      "cell_type": "code",
      "source": [
        "plt.imshow(np.concatenate([test_noisy_images[3], test_images[3]], axis=1), cmap='gray')\n",
        "plt.show()"
      ],
      "metadata": {
        "colab": {
          "base_uri": "https://localhost:8080/",
          "height": 309
        },
        "id": "gvl2h2ZznoKk",
        "outputId": "8a51b65f-d09a-475b-be9d-86dda3a74261"
      },
      "execution_count": 164,
      "outputs": [
        {
          "output_type": "display_data",
          "data": {
            "text/plain": [
              "<Figure size 640x480 with 1 Axes>"
            ],
            "image/png": "[encoded data removed]"
          },
          "metadata": {}
        }
      ]
    },
    {
      "cell_type": "markdown",
      "source": [
        "## 모델 저장, 로드, 다운"
      ],
      "metadata": {
        "id": "KJYj9-2LoHCF"
      }
    },
    {
      "cell_type": "code",
      "source": [
        "model.save(filepath='./model_01.h5')"
      ],
      "metadata": {
        "id": "Ol0duOBan5lL"
      },
      "execution_count": 165,
      "outputs": []
    },
    {
      "cell_type": "code",
      "source": [
        "# 모델 로드\n",
        "new_model = tf.keras.models.load_model('./model_01.h5')"
      ],
      "metadata": {
        "id": "7Bnelnbnoc_Y"
      },
      "execution_count": 166,
      "outputs": []
    },
    {
      "cell_type": "code",
      "source": [
        "# 확인\n",
        "res = new_model.predict(test_noisy_images[3:4])\n",
        "print(res.shape)\n",
        "\n",
        "plt.bar(range(10), res[0], color='red')             # 모델 예측\n",
        "plt.bar(np.array(range(10))+0.35, test_labels[3])   # 실제 label 정보 (실제 예측)\n",
        "plt.show()"
      ],
      "metadata": {
        "colab": {
          "base_uri": "https://localhost:8080/",
          "height": 467
        },
        "id": "RQKRPUMEonA5",
        "outputId": "eda4385b-a6b3-4180-ebcc-9a3b36f6c3d5"
      },
      "execution_count": 167,
      "outputs": [
        {
          "output_type": "stream",
          "name": "stdout",
          "text": [
            "1/1 [==============================] - 0s 155ms/step\n",
            "(1, 10)\n"
          ]
        },
        {
          "output_type": "display_data",
          "data": {
            "text/plain": [
              "<Figure size 640x480 with 1 Axes>"
            ],
            "image/png": "[encoded data removed]"
          },
          "metadata": {}
        }
      ]
    },
    {
      "cell_type": "code",
      "source": [
        "# 로드한 모델을 test 데이터로 평가\n",
        "loss, accuracy = new_model.evaluate(test_noisy_images, test_labels, verbose=2)\n",
        "print(f'loss : {round(loss,2)}, accuracy: {round(accuracy,2)}')"
      ],
      "metadata": {
        "colab": {
          "base_uri": "https://localhost:8080/"
        },
        "id": "FcjmcBw5oxO2",
        "outputId": "63034bb8-537e-4f80-dc7d-f17ab804607b"
      },
      "execution_count": 168,
      "outputs": [
        {
          "output_type": "stream",
          "name": "stdout",
          "text": [
            "313/313 - 1s - loss: 0.2146 - accuracy: 0.9344 - 1s/epoch - 4ms/step\n",
            "loss : 0.21, accuracy: 0.93\n"
          ]
        }
      ]
    },
    {
      "cell_type": "code",
      "source": [
        "# 컴퓨터에 모델 저장\n",
        "from google.colab import files\n",
        "files.download('./model_01.h5')"
      ],
      "metadata": {
        "colab": {
          "base_uri": "https://localhost:8080/",
          "height": 17
        },
        "id": "ELypoWZ9pLA_",
        "outputId": "6600b95b-bb01-4dc2-954b-d2c1556841b1"
      },
      "execution_count": 169,
      "outputs": [
        {
          "output_type": "display_data",
          "data": {
            "text/plain": [
              "<IPython.core.display.Javascript object>"
            ],
            "application/javascript": [
              "\n",
              "    async function download(id, filename, size) {\n",
              "      if (!google.colab.kernel.accessAllowed) {\n",
              "        return;\n",
              "      }\n",
              "      const div = document.createElement('div');\n",
              "      const label = document.createElement('label');\n",
              "      label.textContent = `Downloading \"${filename}\": `;\n",
              "      div.appendChild(label);\n",
              "      const progress = document.createElement('progress');\n",
              "      progress.max = size;\n",
              "      div.appendChild(progress);\n",
              "      document.body.appendChild(div);\n",
              "\n",
              "      const buffers = [];\n",
              "      let downloaded = 0;\n",
              "\n",
              "      const channel = await google.colab.kernel.comms.open(id);\n",
              "      // Send a message to notify the kernel that we're ready.\n",
              "      channel.send({})\n",
              "\n",
              "      for await (const message of channel.messages) {\n",
              "        // Send a message to notify the kernel that we're ready.\n",
              "        channel.send({})\n",
              "        if (message.buffers) {\n",
              "          for (const buffer of message.buffers) {\n",
              "            buffers.push(buffer);\n",
              "            downloaded += buffer.byteLength;\n",
              "            progress.value = downloaded;\n",
              "          }\n",
              "        }\n",
              "      }\n",
              "      const blob = new Blob(buffers, {type: 'application/binary'});\n",
              "      const a = document.createElement('a');\n",
              "      a.href = window.URL.createObjectURL(blob);\n",
              "      a.download = filename;\n",
              "      div.appendChild(a);\n",
              "      a.click();\n",
              "      div.remove();\n",
              "    }\n",
              "  "
            ]
          },
          "metadata": {}
        },
        {
          "output_type": "display_data",
          "data": {
            "text/plain": [
              "<IPython.core.display.Javascript object>"
            ],
            "application/javascript": [
              "download(\"download_d34fd3c1-3f77-43bd-979e-7c778670fab4\", \"model_01.h5\", 109528)"
            ]
          },
          "metadata": {}
        }
      ]
    }
  ]
}